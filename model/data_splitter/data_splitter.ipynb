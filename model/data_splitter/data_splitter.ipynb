{
 "cells": [
  {
   "cell_type": "code",
   "execution_count": 2,
   "metadata": {},
   "outputs": [],
   "source": [
    "import pandas as pd\n",
    "import numpy as np\n",
    "\n",
    "# Read the CSV file\n",
    "def split_data(input_file):\n",
    "    df = pd.read_csv(input_file)\n",
    "    \n",
    "    # Shuffle the data\n",
    "    df = df.sample(frac=1, random_state=42).reset_index(drop=True)\n",
    "    \n",
    "    # Calculate split sizes\n",
    "    total_rows = len(df)\n",
    "    split_10 = int(total_rows * 0.1)\n",
    "    split_30 = int(total_rows * 0.3)\n",
    "    \n",
    "    # Split the data\n",
    "    data_10 = df[:split_10]\n",
    "    data_30_1 = df[split_10:split_10+split_30]\n",
    "    data_30_2 = df[split_10+split_30:split_10+2*split_30]\n",
    "    data_30_3 = df[split_10+2*split_30:]\n",
    "    \n",
    "    # Save splits to CSV\n",
    "    base_name = input_file.rsplit('.', 1)[0]\n",
    "    data_10.to_csv(f'{base_name}_10percent.csv', index=False)\n",
    "    data_30_1.to_csv(f'{base_name}_30percent_1.csv', index=False)\n",
    "    data_30_2.to_csv(f'{base_name}_30percent_2.csv', index=False)\n",
    "    data_30_3.to_csv(f'{base_name}_30percent_3.csv', index=False)\n",
    "    \n",
    "    print(f'Split sizes:\\n10%: {len(data_10)} rows\\n30% (1): {len(data_30_1)} rows\\n30% (2): {len(data_30_2)} rows\\n30% (3): {len(data_30_3)} rows')"
   ]
  },
  {
   "cell_type": "code",
   "execution_count": 3,
   "metadata": {},
   "outputs": [
    {
     "name": "stdout",
     "output_type": "stream",
     "text": [
      "Split sizes:\n",
      "10%: 28480 rows\n",
      "30% (1): 85442 rows\n",
      "30% (2): 85442 rows\n",
      "30% (3): 85443 rows\n"
     ]
    }
   ],
   "source": [
    "split_data(\"creditcard.csv\")"
   ]
  }
 ],
 "metadata": {
  "kernelspec": {
   "display_name": "env",
   "language": "python",
   "name": "python3"
  },
  "language_info": {
   "codemirror_mode": {
    "name": "ipython",
    "version": 3
   },
   "file_extension": ".py",
   "mimetype": "text/x-python",
   "name": "python",
   "nbconvert_exporter": "python",
   "pygments_lexer": "ipython3",
   "version": "3.12.6"
  }
 },
 "nbformat": 4,
 "nbformat_minor": 2
}
