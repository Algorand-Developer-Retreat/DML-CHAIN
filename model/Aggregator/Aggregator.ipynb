{
 "cells": [
  {
   "cell_type": "code",
   "execution_count": 85,
   "metadata": {},
   "outputs": [
    {
     "name": "stdout",
     "output_type": "stream",
     "text": []
    }
   ],
   "source": [
    "import requests\n",
    "\n",
    "def get_shared_data():\n",
    "  response = requests.get('http://localhost:5000/data')\n",
    "  return response.json() if response.status_code == 200 else None\n",
    "\n",
    "model_params = get_shared_data()\n",
    "print(model_params)"
   ]
  },
  {
   "cell_type": "code",
   "execution_count": 86,
   "metadata": {},
   "outputs": [],
   "source": [
    "import sys\n",
    "sys.path.append('..')\n",
    "from ipfs_configs import retrieve_model_params\n",
    "\n",
    "def get_model_params(params_array):\n",
    "  if params_array is None:\n",
    "    return []\n",
    "    \n",
    "  federation_packages = []\n",
    "  for model_id, item in params_array.items():\n",
    "    ipfs_hash = item['paramHash']\n",
    "    param_key = item['paramKey']\n",
    "    result = retrieve_model_params(ipfs_hash, param_key)\n",
    "    if result:\n",
    "      federation_packages.append(result)\n",
    "      \n",
    "  return federation_packages\n",
    "\n",
    "federation_packages  = get_model_params(model_params)\n"
   ]
  },
  {
   "cell_type": "code",
   "execution_count": 87,
   "metadata": {},
   "outputs": [],
   "source": [
    "import numpy as np\n",
    "from sklearn.ensemble import RandomForestClassifier\n",
    "from sklearn.metrics import accuracy_score, precision_score, recall_score, f1_score\n",
    "\n",
    "def get_global_model(federation_packages):\n",
    "    # Stack and average predictions\n",
    "    all_predictions = np.stack([pkg['predictions'] for pkg in federation_packages])\n",
    "    global_predictions = np.mean(all_predictions, axis=0)\n",
    "    \n",
    "    # Stack and average feature importances\n",
    "    all_importances = np.stack([pkg['feature_importances'] for pkg in federation_packages])\n",
    "    global_importances = np.mean(all_importances, axis=0)\n",
    "    \n",
    "    # Get averaged hyperparameters\n",
    "    n_estimators = int(np.mean([pkg['n_estimators'] for pkg in federation_packages]))\n",
    "    max_features = federation_packages[0]['max_features']\n",
    "    avg_max_depth = np.mean([pkg['max_depth'] for pkg in federation_packages])\n",
    "    max_depth = int(avg_max_depth) if avg_max_depth > 0 else None  # Use None for unlimited depth\n",
    "    \n",
    "    # Initialize global model\n",
    "    global_model = RandomForestClassifier(\n",
    "        n_estimators=n_estimators,\n",
    "        max_features=max_features,\n",
    "        max_depth=max_depth\n",
    "    )\n",
    "    \n",
    "    # Return the model along with global predictions and global importances\n",
    "    return global_model, global_predictions, global_importances\n"
   ]
  },
  {
   "cell_type": "code",
   "execution_count": 88,
   "metadata": {},
   "outputs": [],
   "source": [
    "#load dataset\n",
    "import pandas as pd \n",
    "data = pd.read_csv(\"creditcard.csv\") "
   ]
  },
  {
   "cell_type": "code",
   "execution_count": 89,
   "metadata": {},
   "outputs": [
    {
     "name": "stdout",
     "output_type": "stream",
     "text": []
    }
   ],
   "source": [
    "#separating the X and the Y values\n",
    "X = data.drop(['Class'], axis = 1) \n",
    "Y = data[\"Class\"] \n",
    "print(X.shape) \n",
    "print(Y.shape) \n",
    "# getting just the values for the sake of processing  \n",
    "# (its a numpy array with no columns) \n",
    "xData = X.values \n",
    "yData = Y.values "
   ]
  },
  {
   "cell_type": "code",
   "execution_count": 90,
   "metadata": {},
   "outputs": [],
   "source": [
    "#training and testing data bifurcation\n",
    "from sklearn.model_selection import train_test_split \n",
    "#split the data into training and testing sets \n",
    "xTrain, xTest, yTrain, yTest = train_test_split(xData, yData, test_size = 0.2, random_state = 42) "
   ]
  },
  {
   "cell_type": "code",
   "execution_count": 91,
   "metadata": {},
   "outputs": [
    {
     "name": "stdout",
     "output_type": "stream",
     "text": []
    }
   ],
   "source": [
    "# Create global model\n",
    "global_model, global_predictions, global_importances = get_global_model(federation_packages)\n",
    "\n",
    "\n",
    "# Train the global model with the training data\n",
    "global_model.fit(xTrain, yTrain)\n",
    "\n",
    "# Make predictions with global model\n",
    "global_test_predictions = global_model.predict(xTest)\n",
    "\n",
    "# Calculate and print performance metrics\n",
    "print(\"\\nGlobal Model Performance:\")\n",
    "print(f\"Accuracy: {accuracy_score(yTest, global_test_predictions):.4f}\")\n",
    "print(f\"Precision: {precision_score(yTest, global_test_predictions):.4f}\")\n",
    "print(f\"Recall: {recall_score(yTest, global_test_predictions):.4f}\")\n",
    "print(f\"F1 Score: {f1_score(yTest, global_test_predictions):.4f}\")"
   ]
  },
  {
   "cell_type": "code",
   "execution_count": 92,
   "metadata": {},
   "outputs": [
    {
     "name": "stdout",
     "output_type": "stream",
     "text": []
    }
   ],
   "source": [
    "#this is the centralized model\n",
    "#import libraries\n",
    "\n",
    "import numpy as np \n",
    "import pandas as pd \n",
    "import matplotlib.pyplot as plt \n",
    "import pickle\n",
    "\n",
    "#load dataset\n",
    "data = pd.read_csv(\"creditcard.csv\") \n",
    "\n",
    "data.head(10) \n",
    "\n",
    "#describing the data\n",
    "print(data.shape) \n",
    "print(data.describe()) \n",
    "\n",
    "#imbalance in the data\n",
    "fraud = data[data['Class'] == 1] \n",
    "valid = data[data['Class'] == 0] \n",
    "outlierFraction = len(fraud)/float(len(valid)) \n",
    "print(outlierFraction) \n",
    "print('Fraud Cases: {}'.format(len(data[data['Class'] == 1]))) \n",
    "print('Valid Transactions: {}'.format(len(data[data['Class'] == 0]))) \n",
    "\n",
    "#the amount details for fraudulent transaction\n",
    "fraud.Amount.describe() \n",
    "\n",
    "#the amount details for normal transaction\n",
    "valid.Amount.describe() \n",
    "\n",
    "\n",
    "#separating the X and the Y values\n",
    "X = data.drop(['Class'], axis = 1) \n",
    "Y = data[\"Class\"] \n",
    "print(X.shape) \n",
    "print(Y.shape) \n",
    "\n",
    "xData = X.values \n",
    "yData = Y.values \n",
    "\n",
    "#training and testing data bifurcation\n",
    "from sklearn.model_selection import train_test_split \n",
    "#split the data into training and testing sets \n",
    "xTrain, xTest, yTrain, yTest = train_test_split(xData, yData, test_size = 0.2, random_state = 42) \n",
    "\n",
    "#building the Random Forest Classifier\n",
    "from sklearn.ensemble import RandomForestClassifier \n",
    "#random forest model creation \n",
    "rfc = RandomForestClassifier() \n",
    "rfc.fit(xTrain, yTrain) \n",
    "#predictions \n",
    "yPred = rfc.predict(xTest) "
   ]
  },
  {
   "cell_type": "code",
   "execution_count": 93,
   "metadata": {},
   "outputs": [
    {
     "name": "stdout",
     "output_type": "stream",
     "text": []
    }
   ],
   "source": [
    "import matplotlib.pyplot as plt\n",
    "import seaborn as sns\n",
    "from sklearn.metrics import confusion_matrix, roc_curve, auc\n",
    "\n",
    "# Get predictions for both models\n",
    "centralized_predictions = yPred\n",
    "federated_predictions = global_test_predictions\n",
    "\n",
    "# Calculate metrics for both models\n",
    "metrics_centralized = {\n",
    "    'Accuracy': accuracy_score(yTest, centralized_predictions),\n",
    "    'Precision': precision_score(yTest, centralized_predictions),\n",
    "    'Recall': recall_score(yTest, centralized_predictions),\n",
    "    'F1 Score': f1_score(yTest, centralized_predictions)\n",
    "}\n",
    "\n",
    "metrics_federated = {\n",
    "    'Accuracy': accuracy_score(yTest, federated_predictions),\n",
    "    'Precision': precision_score(yTest, federated_predictions),\n",
    "    'Recall': recall_score(yTest, federated_predictions),\n",
    "    'F1 Score': f1_score(yTest, federated_predictions)\n",
    "}\n",
    "\n",
    "# Plotting performance comparison\n",
    "plt.figure(figsize=(12, 6))\n",
    "x = list(metrics_centralized.keys())\n",
    "width = 0.35\n",
    "\n",
    "plt.bar([i - width/2 for i in range(len(x))], metrics_centralized.values(), width, label='Centralized model')\n",
    "plt.bar([i + width/2 for i in range(len(x))], metrics_federated.values(), width, label='DML-CHAIN Federated model')\n",
    "\n",
    "plt.xlabel('Metrics')\n",
    "plt.ylabel('Score')\n",
    "plt.title('Model Performance Comparison')\n",
    "plt.xticks(range(len(x)), x)\n",
    "plt.legend()\n",
    "plt.show()"
   ]
  },
  {
   "cell_type": "code",
   "execution_count": 94,
   "metadata": {},
   "outputs": [
    {
     "name": "stdout",
     "output_type": "stream",
     "text": []
    }
   ],
   "source": [
    "# Plot confusion matrices\n",
    "fig, (ax1, ax2) = plt.subplots(1, 2, figsize=(15, 5))\n",
    "\n",
    "# Centralized model confusion matrix\n",
    "cm_centralized = confusion_matrix(yTest, centralized_predictions)\n",
    "sns.heatmap(cm_centralized, annot=True, fmt='d', ax=ax1)\n",
    "ax1.set_title('Centralized Model Confusion Matrix')\n",
    "ax1.set_xlabel('Predicted')\n",
    "ax1.set_ylabel('Actual')\n",
    "\n",
    "# Federated model confusion matrix\n",
    "cm_federated = confusion_matrix(yTest, federated_predictions)\n",
    "sns.heatmap(cm_federated, annot=True, fmt='d', ax=ax2)\n",
    "ax2.set_title('DML-CHAIN federated model Confusion Matrix')\n",
    "ax2.set_xlabel('Predicted')\n",
    "ax2.set_ylabel('Actual')\n",
    "\n",
    "plt.tight_layout()\n",
    "plt.show()"
   ]
  },
  {
   "cell_type": "code",
   "execution_count": 95,
   "metadata": {},
   "outputs": [
    {
     "name": "stdout",
     "output_type": "stream",
     "text": []
    }
   ],
   "source": [
    "# Calculate ROC curves\n",
    "fpr_c, tpr_c, _ = roc_curve(yTest, rfc.predict_proba(xTest)[:, 1])\n",
    "roc_auc_c = auc(fpr_c, tpr_c)\n",
    "\n",
    "fpr_f, tpr_f, _ = roc_curve(yTest, global_model.predict_proba(xTest)[:, 1])\n",
    "roc_auc_f = auc(fpr_f, tpr_f)\n",
    "\n",
    "# Plot ROC curves\n",
    "plt.figure(figsize=(10, 8))\n",
    "plt.plot(fpr_c, tpr_c, color='darkorange', lw=2,\n",
    "         label=f'Centralized model ROC (AUC = {roc_auc_c:.2f})')\n",
    "plt.plot(fpr_f, tpr_f, color='green', lw=2,\n",
    "         label=f'DML-CHAIN Federated model ROC (AUC = {roc_auc_f:.2f})')\n",
    "plt.plot([0, 1], [0, 1], color='navy', lw=2, linestyle='--')\n",
    "plt.xlim([0.0, 1.0])\n",
    "plt.ylim([0.0, 1.05])\n",
    "plt.xlabel('False Positive Rate')\n",
    "plt.ylabel('True Positive Rate')\n",
    "plt.title('ROC Curves Comparison')\n",
    "plt.legend(loc='lower right')\n",
    "plt.show()"
   ]
  },
  {
   "cell_type": "code",
   "execution_count": 96,
   "metadata": {},
   "outputs": [
    {
     "name": "stdout",
     "output_type": "stream",
     "text": []
    }
   ],
   "source": [
    "# Calculate additional metrics without per-class breakdown\n",
    "from sklearn.metrics import precision_recall_fscore_support\n",
    "\n",
    "# Use binary averaging to get single precision, recall, F1 values\n",
    "prf_centralized = precision_recall_fscore_support(yTest, centralized_predictions, average='binary')\n",
    "prf_federated = precision_recall_fscore_support(yTest, federated_predictions, average='binary')\n",
    "\n",
    "comparison_data = {\n",
    "  'Metric': [\n",
    "    'Accuracy',\n",
    "    'AUC-ROC',\n",
    "    'Precision',\n",
    "    'Recall',\n",
    "    'F1 Score',\n",
    "  ],\n",
    "  'Centralized Model': [\n",
    "    f\"{metrics_centralized['Accuracy']:.4f}\",\n",
    "    f\"{roc_auc_c:.4f}\",\n",
    "    f\"{prf_centralized[0]:.4f}\",\n",
    "    f\"{prf_centralized[1]:.4f}\",\n",
    "    f\"{prf_centralized[2]:.4f}\",\n",
    "  ],\n",
    "  'DML-Chain Federated Model': [\n",
    "    f\"{metrics_federated['Accuracy']:.4f}\",\n",
    "    f\"{roc_auc_f:.4f}\",\n",
    "    f\"{prf_federated[0]:.4f}\",\n",
    "    f\"{prf_federated[1]:.4f}\",\n",
    "    f\"{prf_federated[2]:.4f}\",\n",
    "  ]\n",
    "}\n",
    "\n",
    "comparison_df = pd.DataFrame(comparison_data)\n",
    "\n",
    "from IPython.display import display\n",
    "display(comparison_df.style\n",
    "  .set_properties(**{'text-align': 'center'})\n",
    "  .set_table_styles([\n",
    "    {'selector': 'th', 'props': [('text-align', 'center'), ('font-weight', 'bold')]},\n",
    "    {'selector': 'td', 'props': [('text-align', 'center')]}\n",
    "  ])\n",
    "  .highlight_max(axis=1, subset=['Centralized Model', 'DML-Chain Federated Model'], color='green')\n",
    ")\n"
   ]
  }
 ],
 "metadata": {
  "kernelspec": {
   "display_name": ".venv",
   "language": "python",
   "name": "python3"
  },
  "language_info": {
   "codemirror_mode": {
    "name": "ipython",
    "version": 3
   },
   "file_extension": ".py",
   "mimetype": "text/x-python",
   "name": "python",
   "nbconvert_exporter": "python",
   "pygments_lexer": "ipython3",
   "version": "3.12.6"
  }
 },
 "nbformat": 4,
 "nbformat_minor": 2
}
