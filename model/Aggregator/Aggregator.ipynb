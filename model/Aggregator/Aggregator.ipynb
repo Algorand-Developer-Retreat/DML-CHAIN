{
 "cells": [
  {
   "cell_type": "code",
   "execution_count": 1,
   "metadata": {},
   "outputs": [
    {
     "name": "stderr",
     "output_type": "stream",
     "text": [
      "Python-dotenv could not parse statement starting at line 1\n",
      "Python-dotenv could not parse statement starting at line 2\n"
     ]
    },
    {
     "name": "stdout",
     "output_type": "stream",
     "text": [
      "{'predictions': array([1, 0, 0, ..., 0, 0, 0], shape=(56962,)), 'feature_importances': array([0.0135003 , 0.0143911 , 0.01295356, 0.01568554, 0.03052201,\n",
      "       0.01153662, 0.01276847, 0.02260413, 0.01374508, 0.03842016,\n",
      "       0.06544812, 0.06469785, 0.1724865 , 0.01112866, 0.11649474,\n",
      "       0.01063466, 0.05616613, 0.15206448, 0.03024105, 0.01225126,\n",
      "       0.0141076 , 0.01991766, 0.00867408, 0.00805725, 0.01119234,\n",
      "       0.00894308, 0.01826083, 0.01108162, 0.00970394, 0.01232119]), 'n_estimators': 100, 'max_features': 'sqrt', 'max_depth': -1}\n"
     ]
    }
   ],
   "source": [
    "import sys\n",
    "sys.path.append('..')\n",
    "from ipfs_configs import retrieve_model_params\n",
    "\n",
    "retrieve_model_params = retrieve_model_params('QmcFDhCvABSZnXbcFTaAN7PcoE8WavmLb7tghchyfscukJ','Z1Z1aU9zbEcwQUYxeVdETmZ0eE9wWDBpd2k4UlBmVXRrX3VBWExzS0Z0cz0=')\n",
    "print(retrieve_model_params)\n",
    "\n",
    "federation_packages = [retrieve_model_params]"
   ]
  },
  {
   "cell_type": "code",
   "execution_count": 2,
   "metadata": {},
   "outputs": [],
   "source": [
    "import numpy as np\n",
    "from sklearn.ensemble import RandomForestClassifier\n",
    "from sklearn.metrics import accuracy_score, precision_score, recall_score, f1_score\n",
    "\n",
    "def get_global_model(federation_packages):\n",
    "    # Stack and average predictions\n",
    "    all_predictions = np.stack([pkg['predictions'] for pkg in federation_packages])\n",
    "    global_predictions = np.mean(all_predictions, axis=0)\n",
    "    \n",
    "    # Stack and average feature importances\n",
    "    all_importances = np.stack([pkg['feature_importances'] for pkg in federation_packages])\n",
    "    global_importances = np.mean(all_importances, axis=0)\n",
    "    \n",
    "    # Get averaged hyperparameters\n",
    "    n_estimators = int(np.mean([pkg['n_estimators'] for pkg in federation_packages]))\n",
    "    max_features = federation_packages[0]['max_features']\n",
    "    avg_max_depth = np.mean([pkg['max_depth'] for pkg in federation_packages])\n",
    "    max_depth = int(avg_max_depth) if avg_max_depth > 0 else None  # Use None for unlimited depth\n",
    "    \n",
    "    # Initialize global model\n",
    "    global_model = RandomForestClassifier(\n",
    "        n_estimators=n_estimators,\n",
    "        max_features=max_features,\n",
    "        max_depth=max_depth\n",
    "    )\n",
    "    \n",
    "    # Return the model along with global predictions and global importances\n",
    "    return global_model, global_predictions, global_importances\n"
   ]
  },
  {
   "cell_type": "code",
   "execution_count": 3,
   "metadata": {},
   "outputs": [],
   "source": [
    "#load dataset\n",
    "import pandas as pd \n",
    "data = pd.read_csv(\"creditcard.csv\") "
   ]
  },
  {
   "cell_type": "code",
   "execution_count": 4,
   "metadata": {},
   "outputs": [
    {
     "name": "stdout",
     "output_type": "stream",
     "text": [
      "(284807, 30)\n",
      "(284807,)\n"
     ]
    }
   ],
   "source": [
    "#separating the X and the Y values\n",
    "X = data.drop(['Class'], axis = 1) \n",
    "Y = data[\"Class\"] \n",
    "print(X.shape) \n",
    "print(Y.shape) \n",
    "# getting just the values for the sake of processing  \n",
    "# (its a numpy array with no columns) \n",
    "xData = X.values \n",
    "yData = Y.values "
   ]
  },
  {
   "cell_type": "code",
   "execution_count": 5,
   "metadata": {},
   "outputs": [],
   "source": [
    "#training and testing data bifurcation\n",
    "from sklearn.model_selection import train_test_split \n",
    "#split the data into training and testing sets \n",
    "xTrain, xTest, yTrain, yTest = train_test_split(xData, yData, test_size = 0.2, random_state = 42) "
   ]
  },
  {
   "cell_type": "code",
   "execution_count": 6,
   "metadata": {},
   "outputs": [
    {
     "name": "stdout",
     "output_type": "stream",
     "text": [
      "\n",
      "Global Model Performance:\n",
      "Accuracy: 0.9996\n",
      "Precision: 0.9747\n",
      "Recall: 0.7857\n",
      "F1 Score: 0.8701\n"
     ]
    }
   ],
   "source": [
    "# Create global model\n",
    "global_model, global_predictions, global_importances = get_global_model(federation_packages)\n",
    "\n",
    "\n",
    "# Train the global model with the training data\n",
    "global_model.fit(xTrain, yTrain)\n",
    "\n",
    "# Make predictions with global model\n",
    "global_test_predictions = global_model.predict(xTest)\n",
    "\n",
    "# Calculate and print performance metrics\n",
    "print(\"\\nGlobal Model Performance:\")\n",
    "print(f\"Accuracy: {accuracy_score(yTest, global_test_predictions):.4f}\")\n",
    "print(f\"Precision: {precision_score(yTest, global_test_predictions):.4f}\")\n",
    "print(f\"Recall: {recall_score(yTest, global_test_predictions):.4f}\")\n",
    "print(f\"F1 Score: {f1_score(yTest, global_test_predictions):.4f}\")"
   ]
  }
 ],
 "metadata": {
  "kernelspec": {
   "display_name": ".venv",
   "language": "python",
   "name": "python3"
  },
  "language_info": {
   "codemirror_mode": {
    "name": "ipython",
    "version": 3
   },
   "file_extension": ".py",
   "mimetype": "text/x-python",
   "name": "python",
   "nbconvert_exporter": "python",
   "pygments_lexer": "ipython3",
   "version": "3.12.6"
  }
 },
 "nbformat": 4,
 "nbformat_minor": 2
}
