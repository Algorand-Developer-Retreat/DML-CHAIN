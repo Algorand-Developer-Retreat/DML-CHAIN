{
 "cells": [
  {
   "cell_type": "code",
   "execution_count": null,
   "metadata": {},
   "outputs": [
    {
     "name": "stdout",
     "output_type": "stream",
     "text": [
      "{'7S4ZSD7LR2H6CFIYJVIFBXOHRKNRSZ4MPAY22OTDS445IJKSUZY37ZRJPU': {'paramHash': 'QmWzzk5L1ysDyhgYz1nmf2qHQZrdKXW39iwPQHSXuJpGhM', 'paramKey': 'c3dUOTRXN3hSRWdwQ1NYSkRSTVJ6dE1ZNUxEMUp6QklLcm05aHJiOVJMbz0='}, 'SD4C2NO6AA6MWPK7BMPGDO7SC3GQGI7D2CDSP6LGN2Q76SZFCGDZL5CM4M': {'paramHash': 'QmXew71iMyPng7SKYfuvRdaJwkxa5y8HYukkh425BoPE1n', 'paramKey': 'RENaMUJWNTRLd1ZUVElmQlVjaWVaQV9QQ2NlZmQ4U1NaVm1CdHo2YmNJQT0='}}\n"
     ]
    }
   ],
   "source": [
    "import requests\n",
    "\n",
    "def get_shared_data():\n",
    "  response = requests.get('http://localhost:5000/data')\n",
    "  return response.json() if response.status_code == 200 else None\n",
    "\n",
    "model_params = get_shared_data()\n",
    "print(model_params)"
   ]
  },
  {
   "cell_type": "code",
   "execution_count": 12,
   "metadata": {},
   "outputs": [],
   "source": [
    "import sys\n",
    "sys.path.append('..')\n",
    "from ipfs_configs import retrieve_model_params\n",
    "\n",
    "def get_model_params(params_array):\n",
    "  if params_array is None:\n",
    "    return []\n",
    "    \n",
    "  federation_packages = []\n",
    "  for model_id, item in params_array.items():\n",
    "    ipfs_hash = item['paramHash']\n",
    "    param_key = item['paramKey']\n",
    "    result = retrieve_model_params(ipfs_hash, param_key)\n",
    "    if result:\n",
    "      federation_packages.append(result)\n",
    "      \n",
    "  return federation_packages\n",
    "\n",
    "federation_packages  = get_model_params(model_params)\n"
   ]
  },
  {
   "cell_type": "code",
   "execution_count": 13,
   "metadata": {},
   "outputs": [],
   "source": [
    "import numpy as np\n",
    "from sklearn.ensemble import RandomForestClassifier\n",
    "from sklearn.metrics import accuracy_score, precision_score, recall_score, f1_score\n",
    "\n",
    "def get_global_model(federation_packages):\n",
    "    # Stack and average predictions\n",
    "    all_predictions = np.stack([pkg['predictions'] for pkg in federation_packages])\n",
    "    global_predictions = np.mean(all_predictions, axis=0)\n",
    "    \n",
    "    # Stack and average feature importances\n",
    "    all_importances = np.stack([pkg['feature_importances'] for pkg in federation_packages])\n",
    "    global_importances = np.mean(all_importances, axis=0)\n",
    "    \n",
    "    # Get averaged hyperparameters\n",
    "    n_estimators = int(np.mean([pkg['n_estimators'] for pkg in federation_packages]))\n",
    "    max_features = federation_packages[0]['max_features']\n",
    "    avg_max_depth = np.mean([pkg['max_depth'] for pkg in federation_packages])\n",
    "    max_depth = int(avg_max_depth) if avg_max_depth > 0 else None  # Use None for unlimited depth\n",
    "    \n",
    "    # Initialize global model\n",
    "    global_model = RandomForestClassifier(\n",
    "        n_estimators=n_estimators,\n",
    "        max_features=max_features,\n",
    "        max_depth=max_depth\n",
    "    )\n",
    "    \n",
    "    # Return the model along with global predictions and global importances\n",
    "    return global_model, global_predictions, global_importances\n"
   ]
  },
  {
   "cell_type": "code",
   "execution_count": 14,
   "metadata": {},
   "outputs": [],
   "source": [
    "#load dataset\n",
    "import pandas as pd \n",
    "data = pd.read_csv(\"creditcard.csv\") "
   ]
  },
  {
   "cell_type": "code",
   "execution_count": 15,
   "metadata": {},
   "outputs": [
    {
     "name": "stdout",
     "output_type": "stream",
     "text": [
      "(284807, 30)\n",
      "(284807,)\n"
     ]
    }
   ],
   "source": [
    "#separating the X and the Y values\n",
    "X = data.drop(['Class'], axis = 1) \n",
    "Y = data[\"Class\"] \n",
    "print(X.shape) \n",
    "print(Y.shape) \n",
    "# getting just the values for the sake of processing  \n",
    "# (its a numpy array with no columns) \n",
    "xData = X.values \n",
    "yData = Y.values "
   ]
  },
  {
   "cell_type": "code",
   "execution_count": 16,
   "metadata": {},
   "outputs": [],
   "source": [
    "#training and testing data bifurcation\n",
    "from sklearn.model_selection import train_test_split \n",
    "#split the data into training and testing sets \n",
    "xTrain, xTest, yTrain, yTest = train_test_split(xData, yData, test_size = 0.2, random_state = 42) "
   ]
  },
  {
   "cell_type": "code",
   "execution_count": 17,
   "metadata": {},
   "outputs": [
    {
     "name": "stdout",
     "output_type": "stream",
     "text": [
      "\n",
      "Global Model Performance:\n",
      "Accuracy: 0.9996\n",
      "Precision: 0.9744\n",
      "Recall: 0.7755\n",
      "F1 Score: 0.8636\n"
     ]
    }
   ],
   "source": [
    "# Create global model\n",
    "global_model, global_predictions, global_importances = get_global_model(federation_packages)\n",
    "\n",
    "\n",
    "# Train the global model with the training data\n",
    "global_model.fit(xTrain, yTrain)\n",
    "\n",
    "# Make predictions with global model\n",
    "global_test_predictions = global_model.predict(xTest)\n",
    "\n",
    "# Calculate and print performance metrics\n",
    "print(\"\\nGlobal Model Performance:\")\n",
    "print(f\"Accuracy: {accuracy_score(yTest, global_test_predictions):.4f}\")\n",
    "print(f\"Precision: {precision_score(yTest, global_test_predictions):.4f}\")\n",
    "print(f\"Recall: {recall_score(yTest, global_test_predictions):.4f}\")\n",
    "print(f\"F1 Score: {f1_score(yTest, global_test_predictions):.4f}\")"
   ]
  }
 ],
 "metadata": {
  "kernelspec": {
   "display_name": ".venv",
   "language": "python",
   "name": "python3"
  },
  "language_info": {
   "codemirror_mode": {
    "name": "ipython",
    "version": 3
   },
   "file_extension": ".py",
   "mimetype": "text/x-python",
   "name": "python",
   "nbconvert_exporter": "python",
   "pygments_lexer": "ipython3",
   "version": "3.12.6"
  }
 },
 "nbformat": 4,
 "nbformat_minor": 2
}
