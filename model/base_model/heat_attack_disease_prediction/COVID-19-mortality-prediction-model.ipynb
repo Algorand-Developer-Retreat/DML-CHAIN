{
 "cells": [
  {
   "cell_type": "markdown",
   "metadata": {
    "vscode": {
     "languageId": "html"
    }
   },
   "source": [
    "## Model Template\n",
    "This is an example template where you can insert your model implementation.\n",
    "\n",
    "**Note:** Customize this template based on your specific model implementation and requirements. Insert your model below."
   ]
  },
  {
   "cell_type": "code",
   "execution_count": 22,
   "metadata": {
    "_cell_guid": "b1076dfc-b9ad-4769-8c92-a6c4dae69d19",
    "_uuid": "8f2839f25d086af736a60e9eeb907d3b93b6e0e5",
    "execution": {
     "iopub.execute_input": "2020-12-21T19:46:24.815741Z",
     "iopub.status.busy": "2020-12-21T19:46:24.814999Z",
     "iopub.status.idle": "2020-12-21T19:46:25.902468Z",
     "shell.execute_reply": "2020-12-21T19:46:25.901813Z"
    },
    "papermill": {
     "duration": 1.107226,
     "end_time": "2020-12-21T19:46:25.902590",
     "exception": false,
     "start_time": "2020-12-21T19:46:24.795364",
     "status": "completed"
    },
    "tags": []
   },
   "outputs": [
    {
     "name": "stdout",
     "output_type": "stream",
     "text": [
      "Metrics saved: {'accuracy': 0.9041111111111111, 'precision': 0.904503609281313, 'recall': 0.9041111111111111, 'f1score': 0.904085231192201}\n"
     ]
    }
   ],
   "source": [
    "import pandas as pd\n",
    "import numpy as np\n",
    "from sklearn.preprocessing import StandardScaler\n",
    "from sklearn.model_selection import train_test_split\n",
    "from sklearn.linear_model import LogisticRegression\n",
    "from sklearn.metrics import accuracy_score, precision_score, recall_score, f1_score, confusion_matrix\n",
    "from imblearn.under_sampling import RandomUnderSampler\n",
    "import pickle\n",
    "\n",
    "# Load and preprocess data\n",
    "covid = pd.read_csv('Covid Data_30percent_3.csv')\n",
    "\n",
    "# Clean data\n",
    "cols = ['PNEUMONIA', 'DIABETES', 'COPD', 'ASTHMA', 'INMSUPR', 'HIPERTENSION',\n",
    "  'OTHER_DISEASE', 'CARDIOVASCULAR', 'OBESITY', 'RENAL_CHRONIC', 'TOBACCO']\n",
    "for col in cols:\n",
    "    covid = covid[(covid[col] == 1)|(covid[col] == 2)]\n",
    "\n",
    "# Create death column\n",
    "covid['DEATH'] = [2 if row=='9999-99-99' else 1 for row in covid['DATE_DIED']]\n",
    "covid.drop(columns=['INTUBED', 'ICU', 'DATE_DIED'], inplace=True)\n",
    "covid['PREGNANT'] = covid['PREGNANT'].replace({97:2, 98:2})\n",
    "\n",
    "# Prepare features and target\n",
    "y = covid['DEATH']\n",
    "X = covid.drop('DEATH', axis=1)\n",
    "\n",
    "# Scale features\n",
    "scaler = StandardScaler()\n",
    "X = scaler.fit_transform(X)\n",
    "\n",
    "# Apply undersampling and split data\n",
    "undersampler = RandomUnderSampler(random_state=42)\n",
    "X_resampled, y_resampled = undersampler.fit_resample(X, y)\n",
    "X_train, X_test, y_train, y_test = train_test_split(X_resampled, y_resampled, test_size=0.2, random_state=42)\n",
    "\n",
    "# Train model\n",
    "model = LogisticRegression(random_state=42)\n",
    "model.fit(X_train, y_train)\n",
    "\n",
    "# Get predictions\n",
    "y_pred = model.predict(X_test)\n",
    "\n",
    "# Calculate metrics\n",
    "metrics = {\n",
    "    'accuracy': accuracy_score(y_test, y_pred),\n",
    "    'precision': precision_score(y_test, y_pred, average=\"weighted\"),\n",
    "    'recall': recall_score(y_test, y_pred, average=\"weighted\"),\n",
    "    'f1score': f1_score(y_test, y_pred, average=\"weighted\")\n",
    "}\n",
    "\n",
    "# Save model parameters for aggregation\n",
    "model_params = {\n",
    "    'predictions': y_pred.tolist(),\n",
    "    'coefficients': model.coef_[0].tolist(),\n",
    "    'intercept': model.intercept_[0],\n",
    "    'feature_names': X.columns.tolist() if hasattr(X, 'columns') else None,\n",
    "    'scaler_params': {\n",
    "  'scale_': scaler.scale_.tolist(),\n",
    "  'mean_': scaler.mean_.tolist()\n",
    "    }\n",
    "}\n",
    "\n",
    "# Save model parameters\n",
    "with open('model_params.pkl', 'wb') as f:\n",
    "    pickle.dump(model_params, f)\n",
    "\n",
    "#save the model metrics in to a text file\n",
    "with open('metrics.txt', 'w') as f:\n",
    "  for key, value in metrics.items():\n",
    "    f.write(f'{key}: {value}\\n')\n",
    "\n",
    "print(\"Metrics saved:\", metrics)\n",
    "\n"
   ]
  },
  {
   "cell_type": "markdown",
   "metadata": {},
   "source": [
    "## Files Required for Backend Processing\n",
    "\n",
    "The following files need to be generated and saved before sending to the backend:\n",
    "\n",
    " `metrics.txt` - Contains model performance metrics: (for both model & data owner)\n",
    "  - Accuracy\n",
    "  - Precision\n",
    "  - Recall\n",
    "  - F1 Score\n",
    "\n",
    " `model_params_encrypted` - Encrypted version of model parameters using Fernet encryption (only for data owner)\n",
    "\n",
    " `model_hash` - Contains IPFS hash of the model (only for model owner)\n",
    "\n",
    "These files needs to be processed and combined into a JSON object containing: (For model Owners)\n",
    "- model_ipfs_hash\n",
    "- metrics\n",
    "\n",
    "These files needs to be processed and combined into a JSON object containing: (For data Owners)\n",
    "- metrics\n",
    "- param_ipfs_hash\n",
    "- param_key (base64 encoded encryption key)\n",
    "\n",
    "This JSON data is then sent to the backend endpoint at http://127.0.0.1:5000/update-data\n",
    "\n",
    "Below shown is an example of file generation and backend processing"
   ]
  },
  {
   "cell_type": "code",
   "execution_count": 23,
   "metadata": {},
   "outputs": [
    {
     "name": "stdout",
     "output_type": "stream",
     "text": [
      "Requirement already satisfied: requests in d:\\dml\\dml_\\dml\\.venv\\lib\\site-packages (2.32.3)\n",
      "Requirement already satisfied: charset-normalizer<4,>=2 in d:\\dml\\dml_\\dml\\.venv\\lib\\site-packages (from requests) (3.4.1)\n",
      "Requirement already satisfied: idna<4,>=2.5 in d:\\dml\\dml_\\dml\\.venv\\lib\\site-packages (from requests) (3.10)\n",
      "Requirement already satisfied: urllib3<3,>=1.21.1 in d:\\dml\\dml_\\dml\\.venv\\lib\\site-packages (from requests) (2.3.0)\n",
      "Requirement already satisfied: certifi>=2017.4.17 in d:\\dml\\dml_\\dml\\.venv\\lib\\site-packages (from requests) (2024.12.14)\n",
      "Note: you may need to restart the kernel to use updated packages.\n"
     ]
    },
    {
     "name": "stderr",
     "output_type": "stream",
     "text": [
      "\n",
      "[notice] A new release of pip is available: 24.3.1 -> 25.0.1\n",
      "[notice] To update, run: python.exe -m pip install --upgrade pip\n"
     ]
    }
   ],
   "source": [
    "#Read the saved model metrics\n",
    "%pip install requests\n",
    "import json\n",
    "import requests\n",
    "\n",
    "\n",
    "with open('metrics.txt', 'r') as file:\n",
    "  metrics = file.read().strip()\n",
    "\n",
    "metrics_dict = {}\n",
    "for line in metrics.splitlines():\n",
    "  if ': ' in line:\n",
    "    key, value = line.split(': ', 1)\n",
    "    metrics_dict[key] = int(float(value) * 100)"
   ]
  },
  {
   "cell_type": "markdown",
   "metadata": {},
   "source": [
    "## Model Owner Section\n",
    "\n",
    "**Note:** This section is specifically for model owners. If you are a data owner, please ignore or remove the cell below.\n",
    "\n",
    "This section handles:\n",
    "- Model IPFS upload\n",
    "- Backend data preparation"
   ]
  },
  {
   "cell_type": "code",
   "execution_count": 24,
   "metadata": {},
   "outputs": [],
   "source": [
    "# # #Upload the model on to IPFS\n",
    "# %pip install python-dotenv\n",
    "\n",
    "# import sys\n",
    "# sys.path.append('../..')\n",
    "\n",
    "# from ipfs_configs import upload_file_to_ipfs\n",
    "\n",
    "# model_file_path = 'COVID-19-mortality-prediction-model.ipynb' # update your model file name here\n",
    "\n",
    "# model_ipfs_hash = upload_file_to_ipfs(model_file_path)\n",
    "\n",
    "# with open('model_hash', 'r') as file:\n",
    "#   ipfs_hash = file.read().strip()\n",
    "\n",
    "# # Create final JSON object\n",
    "# data = {\n",
    "#   'model_ipfs_hash': model_ipfs_hash,\n",
    "#   'metrics': metrics_dict,\n",
    "# }\n",
    "\n",
    "\n",
    "# # Convert to JSON string\n",
    "# json_data = json.dumps(data, indent=2)\n",
    "# print(\"JSON data:\", data)\n",
    "\n",
    "# response = requests.post('http://127.0.0.1:5000/update-data', json=data)"
   ]
  },
  {
   "cell_type": "markdown",
   "metadata": {},
   "source": [
    "## Data Owner Section\n",
    "\n",
    "**Note:** This section is specifically for data owners. (Model Owners please keep section as it is, but comment it out when you run this template)\n",
    "\n",
    "This section handles:\n",
    "- Model metrics processing\n",
    "- Parameter encryption\n",
    "- IPFS upload\n",
    "- Backend data preparation"
   ]
  },
  {
   "cell_type": "code",
   "execution_count": 25,
   "metadata": {},
   "outputs": [
    {
     "name": "stderr",
     "output_type": "stream",
     "text": [
      "\n",
      "[notice] A new release of pip is available: 24.3.1 -> 25.0.1\n",
      "[notice] To update, run: python.exe -m pip install --upgrade pip\n"
     ]
    },
    {
     "name": "stdout",
     "output_type": "stream",
     "text": [
      "Requirement already satisfied: cryptography in d:\\dml\\dml_\\dml\\.venv\\lib\\site-packages (44.0.0)\n",
      "Requirement already satisfied: cffi>=1.12 in d:\\dml\\dml_\\dml\\.venv\\lib\\site-packages (from cryptography) (1.17.1)\n",
      "Requirement already satisfied: pycparser in d:\\dml\\dml_\\dml\\.venv\\lib\\site-packages (from cffi>=1.12->cryptography) (2.22)\n",
      "Note: you may need to restart the kernel to use updated packages.\n",
      "JSON data: {'metrics': {'accuracy': 90, 'precision': 90, 'recall': 90, 'f1score': 90}, 'param_ipfs_hash': 'QmRXttzxiFZFCwcBAb4HzCdytPPDiJzBvvocats3fFofLF', 'param_key': 'OVdYYVJ3Zmh3YVoxcXc1THVlRXRhWmRvSWZnUWF1MXJPcnJ0c0taVWk2VT0='}\n"
     ]
    }
   ],
   "source": [
    "#Encrypting Model Parameters & uploading it to IPFS\n",
    "\n",
    "%pip install cryptography\n",
    "\n",
    "import sys\n",
    "sys.path.append('..')\n",
    "\n",
    "from ipfs_configs import upload_file_to_ipfs\n",
    "from cryptography.fernet import Fernet\n",
    "\n",
    "key = Fernet.generate_key()\n",
    "cipher_suite = Fernet(key)\n",
    "\n",
    "with open('model_params.pkl', 'rb') as file:\n",
    "  original_data = file.read()\n",
    "\n",
    "encrypted_data = cipher_suite.encrypt(original_data)\n",
    "\n",
    "with open('model_params_encrypted.pkl', 'wb') as file:\n",
    "  file.write(encrypted_data)\n",
    "\n",
    "params_file_path = 'model_params_encrypted.pkl'\n",
    "\n",
    "param_ipfs_hash = upload_file_to_ipfs(params_file_path)\n",
    "\n",
    "import base64\n",
    "\n",
    "#Create final JSON object\n",
    "data = {\n",
    "  'metrics': metrics_dict,\n",
    "  'param_ipfs_hash': param_ipfs_hash,\n",
    "  'param_key': base64.b64encode(key).decode('utf-8')\n",
    "}\n",
    "\n",
    "\n",
    "# Convert to JSON string\n",
    "json_data = json.dumps(data, indent=2)\n",
    "print(\"JSON data:\", data)\n",
    "\n",
    "response = requests.post('http://127.0.0.1:5000/update-data', json=data)"
   ]
  }
 ],
 "metadata": {
  "kernelspec": {
   "display_name": ".venv",
   "language": "python",
   "name": "python3"
  },
  "language_info": {
   "codemirror_mode": {
    "name": "ipython",
    "version": 3
   },
   "file_extension": ".py",
   "mimetype": "text/x-python",
   "name": "python",
   "nbconvert_exporter": "python",
   "pygments_lexer": "ipython3",
   "version": "3.12.6"
  },
  "papermill": {
   "duration": 311.230895,
   "end_time": "2020-12-21T19:51:30.624187",
   "environment_variables": {},
   "exception": null,
   "input_path": "__notebook__.ipynb",
   "output_path": "__notebook__.ipynb",
   "parameters": {},
   "start_time": "2020-12-21T19:46:19.393292",
   "version": "2.1.0"
  }
 },
 "nbformat": 4,
 "nbformat_minor": 4
}
