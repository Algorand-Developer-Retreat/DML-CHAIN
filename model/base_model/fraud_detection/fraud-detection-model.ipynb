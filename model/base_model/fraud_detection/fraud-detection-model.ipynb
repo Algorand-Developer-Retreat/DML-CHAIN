{
 "cells": [
  {
   "cell_type": "markdown",
   "metadata": {
    "vscode": {
     "languageId": "html"
    }
   },
   "source": [
    "## Model Template\n",
    "This is an example template where you can insert your model implementation.\n",
    "\n",
    "**Note:** Customize this template based on your specific model implementation and requirements. Insert your model below."
   ]
  },
  {
   "cell_type": "code",
   "execution_count": 4,
   "metadata": {
    "_cell_guid": "b1076dfc-b9ad-4769-8c92-a6c4dae69d19",
    "_uuid": "8f2839f25d086af736a60e9eeb907d3b93b6e0e5",
    "execution": {
     "iopub.execute_input": "2020-12-21T19:46:24.815741Z",
     "iopub.status.busy": "2020-12-21T19:46:24.814999Z",
     "iopub.status.idle": "2020-12-21T19:46:25.902468Z",
     "shell.execute_reply": "2020-12-21T19:46:25.901813Z"
    },
    "papermill": {
     "duration": 1.107226,
     "end_time": "2020-12-21T19:46:25.902590",
     "exception": false,
     "start_time": "2020-12-21T19:46:24.795364",
     "status": "completed"
    },
    "tags": []
   },
   "outputs": [
    {
     "name": "stdout",
     "output_type": "stream",
     "text": [
      "(284807, 31)\n",
      "                Time            V1            V2            V3            V4  \\\n",
      "count  284807.000000  2.848070e+05  2.848070e+05  2.848070e+05  2.848070e+05   \n",
      "mean    94813.859575  1.168375e-15  3.416908e-16 -1.379537e-15  2.074095e-15   \n",
      "std     47488.145955  1.958696e+00  1.651309e+00  1.516255e+00  1.415869e+00   \n",
      "min         0.000000 -5.640751e+01 -7.271573e+01 -4.832559e+01 -5.683171e+00   \n",
      "25%     54201.500000 -9.203734e-01 -5.985499e-01 -8.903648e-01 -8.486401e-01   \n",
      "50%     84692.000000  1.810880e-02  6.548556e-02  1.798463e-01 -1.984653e-02   \n",
      "75%    139320.500000  1.315642e+00  8.037239e-01  1.027196e+00  7.433413e-01   \n",
      "max    172792.000000  2.454930e+00  2.205773e+01  9.382558e+00  1.687534e+01   \n",
      "\n",
      "                 V5            V6            V7            V8            V9  \\\n",
      "count  2.848070e+05  2.848070e+05  2.848070e+05  2.848070e+05  2.848070e+05   \n",
      "mean   9.604066e-16  1.487313e-15 -5.556467e-16  1.213481e-16 -2.406331e-15   \n",
      "std    1.380247e+00  1.332271e+00  1.237094e+00  1.194353e+00  1.098632e+00   \n",
      "min   -1.137433e+02 -2.616051e+01 -4.355724e+01 -7.321672e+01 -1.343407e+01   \n",
      "25%   -6.915971e-01 -7.682956e-01 -5.540759e-01 -2.086297e-01 -6.430976e-01   \n",
      "50%   -5.433583e-02 -2.741871e-01  4.010308e-02  2.235804e-02 -5.142873e-02   \n",
      "75%    6.119264e-01  3.985649e-01  5.704361e-01  3.273459e-01  5.971390e-01   \n",
      "max    3.480167e+01  7.330163e+01  1.205895e+02  2.000721e+01  1.559499e+01   \n",
      "\n",
      "       ...           V21           V22           V23           V24  \\\n",
      "count  ...  2.848070e+05  2.848070e+05  2.848070e+05  2.848070e+05   \n",
      "mean   ...  1.654067e-16 -3.568593e-16  2.578648e-16  4.473266e-15   \n",
      "std    ...  7.345240e-01  7.257016e-01  6.244603e-01  6.056471e-01   \n",
      "min    ... -3.483038e+01 -1.093314e+01 -4.480774e+01 -2.836627e+00   \n",
      "25%    ... -2.283949e-01 -5.423504e-01 -1.618463e-01 -3.545861e-01   \n",
      "50%    ... -2.945017e-02  6.781943e-03 -1.119293e-02  4.097606e-02   \n",
      "75%    ...  1.863772e-01  5.285536e-01  1.476421e-01  4.395266e-01   \n",
      "max    ...  2.720284e+01  1.050309e+01  2.252841e+01  4.584549e+00   \n",
      "\n",
      "                V25           V26           V27           V28         Amount  \\\n",
      "count  2.848070e+05  2.848070e+05  2.848070e+05  2.848070e+05  284807.000000   \n",
      "mean   5.340915e-16  1.683437e-15 -3.660091e-16 -1.227390e-16      88.349619   \n",
      "std    5.212781e-01  4.822270e-01  4.036325e-01  3.300833e-01     250.120109   \n",
      "min   -1.029540e+01 -2.604551e+00 -2.256568e+01 -1.543008e+01       0.000000   \n",
      "25%   -3.171451e-01 -3.269839e-01 -7.083953e-02 -5.295979e-02       5.600000   \n",
      "50%    1.659350e-02 -5.213911e-02  1.342146e-03  1.124383e-02      22.000000   \n",
      "75%    3.507156e-01  2.409522e-01  9.104512e-02  7.827995e-02      77.165000   \n",
      "max    7.519589e+00  3.517346e+00  3.161220e+01  3.384781e+01   25691.160000   \n",
      "\n",
      "               Class  \n",
      "count  284807.000000  \n",
      "mean        0.001727  \n",
      "std         0.041527  \n",
      "min         0.000000  \n",
      "25%         0.000000  \n",
      "50%         0.000000  \n",
      "75%         0.000000  \n",
      "max         1.000000  \n",
      "\n",
      "[8 rows x 31 columns]\n",
      "0.0017304750013189597\n",
      "Fraud Cases: 492\n",
      "Valid Transactions: 284315\n",
      "(284807, 30)\n",
      "(284807,)\n",
      "Metrics saved: {'accuracy': 0.9995611109160493, 'precision': 0.9620253164556962, 'recall': 0.7755102040816326, 'f1score': 0.8587570621468926}\n"
     ]
    }
   ],
   "source": [
    "\n",
    "#import libraries\n",
    "import numpy as np \n",
    "import pandas as pd \n",
    "import matplotlib.pyplot as plt \n",
    "import pickle\n",
    "\n",
    "#load dataset\n",
    "data = pd.read_csv(\"creditcard.csv\") \n",
    "\n",
    "data.head(10) \n",
    "\n",
    "#describing the data\n",
    "print(data.shape) \n",
    "print(data.describe()) \n",
    "\n",
    "#imbalance in the data\n",
    "fraud = data[data['Class'] == 1] \n",
    "valid = data[data['Class'] == 0] \n",
    "outlierFraction = len(fraud)/float(len(valid)) \n",
    "print(outlierFraction) \n",
    "print('Fraud Cases: {}'.format(len(data[data['Class'] == 1]))) \n",
    "print('Valid Transactions: {}'.format(len(data[data['Class'] == 0]))) \n",
    "\n",
    "#the amount details for fraudulent transaction\n",
    "fraud.Amount.describe() \n",
    "\n",
    "#the amount details for normal transaction\n",
    "valid.Amount.describe() \n",
    "\n",
    "\n",
    "#separating the X and the Y values\n",
    "X = data.drop(['Class'], axis = 1) \n",
    "Y = data[\"Class\"] \n",
    "print(X.shape) \n",
    "print(Y.shape) \n",
    "\n",
    "xData = X.values \n",
    "yData = Y.values \n",
    "\n",
    "#training and testing data bifurcation\n",
    "from sklearn.model_selection import train_test_split \n",
    "#split the data into training and testing sets \n",
    "xTrain, xTest, yTrain, yTest = train_test_split(xData, yData, test_size = 0.2, random_state = 42) \n",
    "\n",
    "#building the Random Forest Classifier\n",
    "from sklearn.ensemble import RandomForestClassifier \n",
    "#random forest model creation \n",
    "rfc = RandomForestClassifier() \n",
    "rfc.fit(xTrain, yTrain) \n",
    "#predictions \n",
    "yPred = rfc.predict(xTest) \n",
    "\n",
    "from sklearn.metrics import accuracy_score,precision_score,recall_score,f1_score\n",
    "acc = accuracy_score(yTest, yPred)\n",
    "metrics = {\n",
    "  'accuracy': accuracy_score(yTest, yPred),\n",
    "  'precision': precision_score(yTest, yPred),\n",
    "  'recall': recall_score(yTest, yPred),\n",
    "  'f1score': f1_score(yTest, yPred)\n",
    "}\n",
    "\n",
    "feature_importances = rfc.feature_importances_\n",
    "\n",
    "predictions = rfc.predict(xTest)\n",
    "\n",
    "model_params = {\n",
    "    'predictions': predictions,\n",
    "    'feature_importances': feature_importances,\n",
    "    'n_estimators': rfc.n_estimators,\n",
    "    'max_features': rfc.max_features,\n",
    "    'max_depth': rfc.max_depth if rfc.max_depth is not None else -1\n",
    "}\n",
    "\n",
    "\n",
    "#save the model parameters in to a pickle file\n",
    "with open('model_params.pkl', 'wb') as f:\n",
    "  pickle.dump(model_params, f)\n",
    "\n",
    "\n",
    "#save the model metrics in to a text file\n",
    "with open('metrics.txt', 'w') as f:\n",
    "  for key, value in metrics.items():\n",
    "    f.write(f'{key}: {value}\\n')\n",
    "\n",
    "print(\"Metrics saved:\", metrics)\n"
   ]
  },
  {
   "cell_type": "markdown",
   "metadata": {},
   "source": [
    "## Files Required for Backend Processing\n",
    "\n",
    "The following files need to be generated and saved before sending to the backend:\n",
    "\n",
    " `metrics.txt` - Contains model performance metrics: (for both model & data owner)\n",
    "  - Accuracy\n",
    "  - Precision\n",
    "  - Recall\n",
    "  - F1 Score\n",
    "\n",
    " `model_params_encrypted` - Encrypted version of model parameters using Fernet encryption (only for data owner)\n",
    "\n",
    " `model_hash` - Contains IPFS hash of the model (only for model owner)\n",
    "\n",
    "These files needs to be processed and combined into a JSON object containing: (For model Owners)\n",
    "- model_ipfs_hash\n",
    "- metrics\n",
    "\n",
    "These files needs to be processed and combined into a JSON object containing: (For data Owners)\n",
    "- metrics\n",
    "- param_ipfs_hash\n",
    "- param_key (base64 encoded encryption key)\n",
    "\n",
    "This JSON data is then sent to the backend endpoint at http://127.0.0.1:5000/update-data\n",
    "\n",
    "Below shown is an example of file generation and backend processing"
   ]
  },
  {
   "cell_type": "code",
   "execution_count": 5,
   "metadata": {},
   "outputs": [
    {
     "name": "stdout",
     "output_type": "stream",
     "text": [
      "Requirement already satisfied: requests in d:\\dml\\dml_\\dml\\.venv\\lib\\site-packages (2.32.3)Note: you may need to restart the kernel to use updated packages.\n",
      "\n",
      "Requirement already satisfied: charset-normalizer<4,>=2 in d:\\dml\\dml_\\dml\\.venv\\lib\\site-packages (from requests) (3.4.1)\n",
      "Requirement already satisfied: idna<4,>=2.5 in d:\\dml\\dml_\\dml\\.venv\\lib\\site-packages (from requests) (3.10)\n",
      "Requirement already satisfied: urllib3<3,>=1.21.1 in d:\\dml\\dml_\\dml\\.venv\\lib\\site-packages (from requests) (2.3.0)\n",
      "Requirement already satisfied: certifi>=2017.4.17 in d:\\dml\\dml_\\dml\\.venv\\lib\\site-packages (from requests) (2024.12.14)\n"
     ]
    },
    {
     "name": "stderr",
     "output_type": "stream",
     "text": [
      "\n",
      "[notice] A new release of pip is available: 24.3.1 -> 25.0.1\n",
      "[notice] To update, run: python.exe -m pip install --upgrade pip\n"
     ]
    }
   ],
   "source": [
    "#Read the saved model metrics\n",
    "%pip install requests\n",
    "import json\n",
    "import requests\n",
    "\n",
    "\n",
    "with open('metrics.txt', 'r') as file:\n",
    "  metrics = file.read().strip()\n",
    "\n",
    "metrics_dict = {}\n",
    "for line in metrics.splitlines():\n",
    "  if ': ' in line:\n",
    "    key, value = line.split(': ', 1)\n",
    "    metrics_dict[key] = int(float(value) * 100)"
   ]
  },
  {
   "cell_type": "markdown",
   "metadata": {},
   "source": [
    "## Model Owner Section\n",
    "\n",
    "**Note:** This section is specifically for model owners. If you are a data owner, please ignore or remove the cell below.\n",
    "\n",
    "This section handles:\n",
    "- Model IPFS upload\n",
    "- Backend data preparation"
   ]
  },
  {
   "cell_type": "code",
   "execution_count": 11,
   "metadata": {},
   "outputs": [
    {
     "name": "stderr",
     "output_type": "stream",
     "text": [
      "\n",
      "[notice] A new release of pip is available: 24.3.1 -> 25.0.1\n",
      "[notice] To update, run: python.exe -m pip install --upgrade pip\n"
     ]
    },
    {
     "name": "stdout",
     "output_type": "stream",
     "text": [
      "Requirement already satisfied: python-dotenv in d:\\dml\\dml_\\dml\\.venv\\lib\\site-packages (1.0.1)Note: you may need to restart the kernel to use updated packages.\n",
      "\n"
     ]
    },
    {
     "name": "stderr",
     "output_type": "stream",
     "text": [
      "Python-dotenv could not parse statement starting at line 1\n",
      "Python-dotenv could not parse statement starting at line 2\n"
     ]
    },
    {
     "name": "stdout",
     "output_type": "stream",
     "text": [
      "JSON data: {'model_ipfs_hash': 'QmYsntGpsDWyr2fG8om6fAWGa8uDa16tpNnDZfUC3g4U99', 'metrics': {'accuracy': 99, 'precision': 96, 'recall': 77, 'f1score': 85}}\n"
     ]
    }
   ],
   "source": [
    "# #Upload the model on to IPFS\n",
    "%pip install python-dotenv\n",
    "\n",
    "import sys\n",
    "sys.path.append('../..')\n",
    "\n",
    "from ipfs_configs import upload_file_to_ipfs\n",
    "\n",
    "model_file_path = 'fraud-detection-model.ipynb'\n",
    "\n",
    "model_ipfs_hash = upload_file_to_ipfs(model_file_path)\n",
    "\n",
    "with open('model_hash', 'r') as file:\n",
    "  ipfs_hash = file.read().strip()\n",
    "\n",
    "# Create final JSON object\n",
    "data = {\n",
    "  'model_ipfs_hash': model_ipfs_hash,\n",
    "  'metrics': metrics_dict,\n",
    "}\n",
    "\n",
    "\n",
    "# Convert to JSON string\n",
    "json_data = json.dumps(data, indent=2)\n",
    "print(\"JSON data:\", data)\n",
    "\n",
    "response = requests.post('http://127.0.0.1:5000/update-data', json=data)"
   ]
  },
  {
   "cell_type": "markdown",
   "metadata": {},
   "source": [
    "## Data Owner Section\n",
    "\n",
    "**Note:** This section is specifically for data owners. (Model Owners please keep section as it is, but comment it out when you run this template)\n",
    "\n",
    "This section handles:\n",
    "- Model metrics processing\n",
    "- Parameter encryption\n",
    "- IPFS upload\n",
    "- Backend data preparation"
   ]
  },
  {
   "cell_type": "code",
   "execution_count": null,
   "metadata": {},
   "outputs": [
    {
     "name": "stderr",
     "output_type": "stream",
     "text": [
      "\n",
      "[notice] A new release of pip is available: 24.3.1 -> 25.0.1\n",
      "[notice] To update, run: python.exe -m pip install --upgrade pip\n"
     ]
    },
    {
     "name": "stdout",
     "output_type": "stream",
     "text": [
      "Requirement already satisfied: cryptography in d:\\dml\\dml_\\dml\\.venv\\lib\\site-packages (44.0.0)\n",
      "Requirement already satisfied: cffi>=1.12 in d:\\dml\\dml_\\dml\\.venv\\lib\\site-packages (from cryptography) (1.17.1)\n",
      "Requirement already satisfied: pycparser in d:\\dml\\dml_\\dml\\.venv\\lib\\site-packages (from cffi>=1.12->cryptography) (2.22)\n",
      "Note: you may need to restart the kernel to use updated packages.\n",
      "JSON data: {'metrics': {'accuracy': 99, 'precision': 91, 'recall': 75, 'f1score': 83}, 'param_ipfs_hash': 'QmYJkXGkL3sazJrppiotW7txpL3ocvHqS9HzPdNTfvL68R', 'param_key': 'cWRLSFhuckU1UnVOVHRSWUVtaDhqZzJfSnFpTzBldGNFUy13ZjM2OU82RT0='}\n"
     ]
    }
   ],
   "source": [
    "# #Encrypting Model Parameters & uploading it to IPFS\n",
    "\n",
    "# %pip install cryptography\n",
    "\n",
    "# import sys\n",
    "# sys.path.append('..')\n",
    "\n",
    "# from ipfs_configs import upload_file_to_ipfs\n",
    "# from cryptography.fernet import Fernet\n",
    "\n",
    "# key = Fernet.generate_key()\n",
    "# cipher_suite = Fernet(key)\n",
    "\n",
    "# with open('model_params.pkl', 'rb') as file:\n",
    "#   original_data = file.read()\n",
    "\n",
    "# encrypted_data = cipher_suite.encrypt(original_data)\n",
    "\n",
    "# with open('model_params_encrypted.pkl', 'wb') as file:\n",
    "#   file.write(encrypted_data)\n",
    "\n",
    "# params_file_path = 'model_params_encrypted.pkl'\n",
    "\n",
    "# param_ipfs_hash = upload_file_to_ipfs(params_file_path)\n",
    "\n",
    "# import base64\n",
    "\n",
    "# #Create final JSON object\n",
    "# data = {\n",
    "#   'metrics': metrics_dict,\n",
    "#   'param_ipfs_hash': param_ipfs_hash,\n",
    "#   'param_key': base64.b64encode(key).decode('utf-8')\n",
    "# }\n",
    "\n",
    "\n",
    "# # Convert to JSON string\n",
    "# json_data = json.dumps(data, indent=2)\n",
    "# print(\"JSON data:\", data)\n",
    "\n",
    "# response = requests.post('http://127.0.0.1:5000/update-data', json=data)"
   ]
  }
 ],
 "metadata": {
  "kernelspec": {
   "display_name": ".venv",
   "language": "python",
   "name": "python3"
  },
  "language_info": {
   "codemirror_mode": {
    "name": "ipython",
    "version": 3
   },
   "file_extension": ".py",
   "mimetype": "text/x-python",
   "name": "python",
   "nbconvert_exporter": "python",
   "pygments_lexer": "ipython3",
   "version": "3.12.6"
  },
  "papermill": {
   "duration": 311.230895,
   "end_time": "2020-12-21T19:51:30.624187",
   "environment_variables": {},
   "exception": null,
   "input_path": "__notebook__.ipynb",
   "output_path": "__notebook__.ipynb",
   "parameters": {},
   "start_time": "2020-12-21T19:46:19.393292",
   "version": "2.1.0"
  }
 },
 "nbformat": 4,
 "nbformat_minor": 4
}
