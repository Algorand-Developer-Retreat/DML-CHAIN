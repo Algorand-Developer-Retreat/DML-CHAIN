{
 "cells": [
  {
   "cell_type": "markdown",
   "metadata": {},
   "source": [
    "**Import necessary library**"
   ]
  },
  {
   "cell_type": "code",
   "execution_count": 2,
   "metadata": {
    "execution": {
     "iopub.execute_input": "2024-07-10T09:26:57.922136Z",
     "iopub.status.busy": "2024-07-10T09:26:57.921538Z",
     "iopub.status.idle": "2024-07-10T09:26:58.543523Z",
     "shell.execute_reply": "2024-07-10T09:26:58.542540Z",
     "shell.execute_reply.started": "2024-07-10T09:26:57.922102Z"
    },
    "trusted": true
   },
   "outputs": [],
   "source": [
    "import numpy as np \n",
    "import pandas as pd \n",
    "import matplotlib.pyplot as plt\n",
    "import seaborn as sns "
   ]
  },
  {
   "cell_type": "markdown",
   "metadata": {},
   "source": [
    "**Load data**"
   ]
  },
  {
   "cell_type": "code",
   "execution_count": 3,
   "metadata": {
    "execution": {
     "iopub.execute_input": "2024-07-10T09:27:43.315405Z",
     "iopub.status.busy": "2024-07-10T09:27:43.314356Z",
     "iopub.status.idle": "2024-07-10T09:27:47.062104Z",
     "shell.execute_reply": "2024-07-10T09:27:47.061111Z",
     "shell.execute_reply.started": "2024-07-10T09:27:43.315361Z"
    },
    "trusted": true
   },
   "outputs": [
    {
     "data": {
      "text/html": [
       "<div>\n",
       "<style scoped>\n",
       "    .dataframe tbody tr th:only-of-type {\n",
       "        vertical-align: middle;\n",
       "    }\n",
       "\n",
       "    .dataframe tbody tr th {\n",
       "        vertical-align: top;\n",
       "    }\n",
       "\n",
       "    .dataframe thead th {\n",
       "        text-align: right;\n",
       "    }\n",
       "</style>\n",
       "<table border=\"1\" class=\"dataframe\">\n",
       "  <thead>\n",
       "    <tr style=\"text-align: right;\">\n",
       "      <th></th>\n",
       "      <th>Time</th>\n",
       "      <th>V1</th>\n",
       "      <th>V2</th>\n",
       "      <th>V3</th>\n",
       "      <th>V4</th>\n",
       "      <th>V5</th>\n",
       "      <th>V6</th>\n",
       "      <th>V7</th>\n",
       "      <th>V8</th>\n",
       "      <th>V9</th>\n",
       "      <th>...</th>\n",
       "      <th>V21</th>\n",
       "      <th>V22</th>\n",
       "      <th>V23</th>\n",
       "      <th>V24</th>\n",
       "      <th>V25</th>\n",
       "      <th>V26</th>\n",
       "      <th>V27</th>\n",
       "      <th>V28</th>\n",
       "      <th>Amount</th>\n",
       "      <th>Class</th>\n",
       "    </tr>\n",
       "  </thead>\n",
       "  <tbody>\n",
       "    <tr>\n",
       "      <th>0</th>\n",
       "      <td>0.0</td>\n",
       "      <td>-1.359807</td>\n",
       "      <td>-0.072781</td>\n",
       "      <td>2.536347</td>\n",
       "      <td>1.378155</td>\n",
       "      <td>-0.338321</td>\n",
       "      <td>0.462388</td>\n",
       "      <td>0.239599</td>\n",
       "      <td>0.098698</td>\n",
       "      <td>0.363787</td>\n",
       "      <td>...</td>\n",
       "      <td>-0.018307</td>\n",
       "      <td>0.277838</td>\n",
       "      <td>-0.110474</td>\n",
       "      <td>0.066928</td>\n",
       "      <td>0.128539</td>\n",
       "      <td>-0.189115</td>\n",
       "      <td>0.133558</td>\n",
       "      <td>-0.021053</td>\n",
       "      <td>149.62</td>\n",
       "      <td>0</td>\n",
       "    </tr>\n",
       "    <tr>\n",
       "      <th>1</th>\n",
       "      <td>0.0</td>\n",
       "      <td>1.191857</td>\n",
       "      <td>0.266151</td>\n",
       "      <td>0.166480</td>\n",
       "      <td>0.448154</td>\n",
       "      <td>0.060018</td>\n",
       "      <td>-0.082361</td>\n",
       "      <td>-0.078803</td>\n",
       "      <td>0.085102</td>\n",
       "      <td>-0.255425</td>\n",
       "      <td>...</td>\n",
       "      <td>-0.225775</td>\n",
       "      <td>-0.638672</td>\n",
       "      <td>0.101288</td>\n",
       "      <td>-0.339846</td>\n",
       "      <td>0.167170</td>\n",
       "      <td>0.125895</td>\n",
       "      <td>-0.008983</td>\n",
       "      <td>0.014724</td>\n",
       "      <td>2.69</td>\n",
       "      <td>0</td>\n",
       "    </tr>\n",
       "    <tr>\n",
       "      <th>2</th>\n",
       "      <td>1.0</td>\n",
       "      <td>-1.358354</td>\n",
       "      <td>-1.340163</td>\n",
       "      <td>1.773209</td>\n",
       "      <td>0.379780</td>\n",
       "      <td>-0.503198</td>\n",
       "      <td>1.800499</td>\n",
       "      <td>0.791461</td>\n",
       "      <td>0.247676</td>\n",
       "      <td>-1.514654</td>\n",
       "      <td>...</td>\n",
       "      <td>0.247998</td>\n",
       "      <td>0.771679</td>\n",
       "      <td>0.909412</td>\n",
       "      <td>-0.689281</td>\n",
       "      <td>-0.327642</td>\n",
       "      <td>-0.139097</td>\n",
       "      <td>-0.055353</td>\n",
       "      <td>-0.059752</td>\n",
       "      <td>378.66</td>\n",
       "      <td>0</td>\n",
       "    </tr>\n",
       "    <tr>\n",
       "      <th>3</th>\n",
       "      <td>1.0</td>\n",
       "      <td>-0.966272</td>\n",
       "      <td>-0.185226</td>\n",
       "      <td>1.792993</td>\n",
       "      <td>-0.863291</td>\n",
       "      <td>-0.010309</td>\n",
       "      <td>1.247203</td>\n",
       "      <td>0.237609</td>\n",
       "      <td>0.377436</td>\n",
       "      <td>-1.387024</td>\n",
       "      <td>...</td>\n",
       "      <td>-0.108300</td>\n",
       "      <td>0.005274</td>\n",
       "      <td>-0.190321</td>\n",
       "      <td>-1.175575</td>\n",
       "      <td>0.647376</td>\n",
       "      <td>-0.221929</td>\n",
       "      <td>0.062723</td>\n",
       "      <td>0.061458</td>\n",
       "      <td>123.50</td>\n",
       "      <td>0</td>\n",
       "    </tr>\n",
       "    <tr>\n",
       "      <th>4</th>\n",
       "      <td>2.0</td>\n",
       "      <td>-1.158233</td>\n",
       "      <td>0.877737</td>\n",
       "      <td>1.548718</td>\n",
       "      <td>0.403034</td>\n",
       "      <td>-0.407193</td>\n",
       "      <td>0.095921</td>\n",
       "      <td>0.592941</td>\n",
       "      <td>-0.270533</td>\n",
       "      <td>0.817739</td>\n",
       "      <td>...</td>\n",
       "      <td>-0.009431</td>\n",
       "      <td>0.798278</td>\n",
       "      <td>-0.137458</td>\n",
       "      <td>0.141267</td>\n",
       "      <td>-0.206010</td>\n",
       "      <td>0.502292</td>\n",
       "      <td>0.219422</td>\n",
       "      <td>0.215153</td>\n",
       "      <td>69.99</td>\n",
       "      <td>0</td>\n",
       "    </tr>\n",
       "  </tbody>\n",
       "</table>\n",
       "<p>5 rows × 31 columns</p>\n",
       "</div>"
      ],
      "text/plain": [
       "   Time        V1        V2        V3        V4        V5        V6        V7  \\\n",
       "0   0.0 -1.359807 -0.072781  2.536347  1.378155 -0.338321  0.462388  0.239599   \n",
       "1   0.0  1.191857  0.266151  0.166480  0.448154  0.060018 -0.082361 -0.078803   \n",
       "2   1.0 -1.358354 -1.340163  1.773209  0.379780 -0.503198  1.800499  0.791461   \n",
       "3   1.0 -0.966272 -0.185226  1.792993 -0.863291 -0.010309  1.247203  0.237609   \n",
       "4   2.0 -1.158233  0.877737  1.548718  0.403034 -0.407193  0.095921  0.592941   \n",
       "\n",
       "         V8        V9  ...       V21       V22       V23       V24       V25  \\\n",
       "0  0.098698  0.363787  ... -0.018307  0.277838 -0.110474  0.066928  0.128539   \n",
       "1  0.085102 -0.255425  ... -0.225775 -0.638672  0.101288 -0.339846  0.167170   \n",
       "2  0.247676 -1.514654  ...  0.247998  0.771679  0.909412 -0.689281 -0.327642   \n",
       "3  0.377436 -1.387024  ... -0.108300  0.005274 -0.190321 -1.175575  0.647376   \n",
       "4 -0.270533  0.817739  ... -0.009431  0.798278 -0.137458  0.141267 -0.206010   \n",
       "\n",
       "        V26       V27       V28  Amount  Class  \n",
       "0 -0.189115  0.133558 -0.021053  149.62      0  \n",
       "1  0.125895 -0.008983  0.014724    2.69      0  \n",
       "2 -0.139097 -0.055353 -0.059752  378.66      0  \n",
       "3 -0.221929  0.062723  0.061458  123.50      0  \n",
       "4  0.502292  0.219422  0.215153   69.99      0  \n",
       "\n",
       "[5 rows x 31 columns]"
      ]
     },
     "execution_count": 3,
     "metadata": {},
     "output_type": "execute_result"
    }
   ],
   "source": [
    "df = pd.read_csv(\"creditcard.csv\")\n",
    "df.head()"
   ]
  },
  {
   "cell_type": "markdown",
   "metadata": {},
   "source": [
    "**Check shape**"
   ]
  },
  {
   "cell_type": "code",
   "execution_count": 4,
   "metadata": {
    "execution": {
     "iopub.execute_input": "2024-07-10T09:28:27.529565Z",
     "iopub.status.busy": "2024-07-10T09:28:27.528322Z",
     "iopub.status.idle": "2024-07-10T09:28:27.536259Z",
     "shell.execute_reply": "2024-07-10T09:28:27.535255Z",
     "shell.execute_reply.started": "2024-07-10T09:28:27.529523Z"
    },
    "trusted": true
   },
   "outputs": [
    {
     "data": {
      "text/plain": [
       "(284807, 31)"
      ]
     },
     "execution_count": 4,
     "metadata": {},
     "output_type": "execute_result"
    }
   ],
   "source": [
    "df.shape"
   ]
  },
  {
   "cell_type": "markdown",
   "metadata": {},
   "source": [
    "**Check null value**"
   ]
  },
  {
   "cell_type": "code",
   "execution_count": 5,
   "metadata": {
    "execution": {
     "iopub.execute_input": "2024-07-10T09:28:46.029814Z",
     "iopub.status.busy": "2024-07-10T09:28:46.029016Z",
     "iopub.status.idle": "2024-07-10T09:28:46.052700Z",
     "shell.execute_reply": "2024-07-10T09:28:46.051702Z",
     "shell.execute_reply.started": "2024-07-10T09:28:46.029781Z"
    },
    "trusted": true
   },
   "outputs": [
    {
     "data": {
      "text/plain": [
       "Time      0\n",
       "V1        0\n",
       "V2        0\n",
       "V3        0\n",
       "V4        0\n",
       "V5        0\n",
       "V6        0\n",
       "V7        0\n",
       "V8        0\n",
       "V9        0\n",
       "V10       0\n",
       "V11       0\n",
       "V12       0\n",
       "V13       0\n",
       "V14       0\n",
       "V15       0\n",
       "V16       0\n",
       "V17       0\n",
       "V18       0\n",
       "V19       0\n",
       "V20       0\n",
       "V21       0\n",
       "V22       0\n",
       "V23       0\n",
       "V24       0\n",
       "V25       0\n",
       "V26       0\n",
       "V27       0\n",
       "V28       0\n",
       "Amount    0\n",
       "Class     0\n",
       "dtype: int64"
      ]
     },
     "execution_count": 5,
     "metadata": {},
     "output_type": "execute_result"
    }
   ],
   "source": [
    "df.isnull().sum()"
   ]
  },
  {
   "cell_type": "markdown",
   "metadata": {},
   "source": [
    "**Check duplicate value**"
   ]
  },
  {
   "cell_type": "code",
   "execution_count": 6,
   "metadata": {
    "execution": {
     "iopub.execute_input": "2024-07-10T09:30:06.027712Z",
     "iopub.status.busy": "2024-07-10T09:30:06.026525Z",
     "iopub.status.idle": "2024-07-10T09:30:06.796519Z",
     "shell.execute_reply": "2024-07-10T09:30:06.795594Z",
     "shell.execute_reply.started": "2024-07-10T09:30:06.027676Z"
    },
    "trusted": true
   },
   "outputs": [],
   "source": [
    "df.drop_duplicates(inplace=True)"
   ]
  },
  {
   "cell_type": "code",
   "execution_count": 7,
   "metadata": {
    "execution": {
     "iopub.execute_input": "2024-07-10T09:30:14.986194Z",
     "iopub.status.busy": "2024-07-10T09:30:14.985800Z",
     "iopub.status.idle": "2024-07-10T09:30:14.993041Z",
     "shell.execute_reply": "2024-07-10T09:30:14.991797Z",
     "shell.execute_reply.started": "2024-07-10T09:30:14.986160Z"
    },
    "trusted": true
   },
   "outputs": [
    {
     "data": {
      "text/plain": [
       "(283726, 31)"
      ]
     },
     "execution_count": 7,
     "metadata": {},
     "output_type": "execute_result"
    }
   ],
   "source": [
    "df.shape"
   ]
  },
  {
   "cell_type": "markdown",
   "metadata": {},
   "source": [
    "**Check column**"
   ]
  },
  {
   "cell_type": "code",
   "execution_count": 8,
   "metadata": {
    "execution": {
     "iopub.execute_input": "2024-07-10T09:30:29.523245Z",
     "iopub.status.busy": "2024-07-10T09:30:29.522817Z",
     "iopub.status.idle": "2024-07-10T09:30:29.530687Z",
     "shell.execute_reply": "2024-07-10T09:30:29.529645Z",
     "shell.execute_reply.started": "2024-07-10T09:30:29.523197Z"
    },
    "trusted": true
   },
   "outputs": [
    {
     "data": {
      "text/plain": [
       "Index(['Time', 'V1', 'V2', 'V3', 'V4', 'V5', 'V6', 'V7', 'V8', 'V9', 'V10',\n",
       "       'V11', 'V12', 'V13', 'V14', 'V15', 'V16', 'V17', 'V18', 'V19', 'V20',\n",
       "       'V21', 'V22', 'V23', 'V24', 'V25', 'V26', 'V27', 'V28', 'Amount',\n",
       "       'Class'],\n",
       "      dtype='object')"
      ]
     },
     "execution_count": 8,
     "metadata": {},
     "output_type": "execute_result"
    }
   ],
   "source": [
    "df.columns"
   ]
  },
  {
   "cell_type": "markdown",
   "metadata": {},
   "source": [
    "**Check unique value**"
   ]
  },
  {
   "cell_type": "code",
   "execution_count": 9,
   "metadata": {
    "execution": {
     "iopub.execute_input": "2024-07-10T09:31:02.907386Z",
     "iopub.status.busy": "2024-07-10T09:31:02.906941Z",
     "iopub.status.idle": "2024-07-10T09:31:03.278601Z",
     "shell.execute_reply": "2024-07-10T09:31:03.277437Z",
     "shell.execute_reply.started": "2024-07-10T09:31:02.907350Z"
    },
    "trusted": true
   },
   "outputs": [
    {
     "data": {
      "text/plain": [
       "Time      124592\n",
       "V1        275663\n",
       "V2        275663\n",
       "V3        275663\n",
       "V4        275663\n",
       "V5        275663\n",
       "V6        275663\n",
       "V7        275663\n",
       "V8        275663\n",
       "V9        275663\n",
       "V10       275663\n",
       "V11       275663\n",
       "V12       275663\n",
       "V13       275663\n",
       "V14       275663\n",
       "V15       275663\n",
       "V16       275663\n",
       "V17       275663\n",
       "V18       275663\n",
       "V19       275663\n",
       "V20       275663\n",
       "V21       275663\n",
       "V22       275663\n",
       "V23       275663\n",
       "V24       275663\n",
       "V25       275663\n",
       "V26       275663\n",
       "V27       275663\n",
       "V28       275663\n",
       "Amount     32767\n",
       "Class          2\n",
       "dtype: int64"
      ]
     },
     "execution_count": 9,
     "metadata": {},
     "output_type": "execute_result"
    }
   ],
   "source": [
    "df.nunique()"
   ]
  },
  {
   "cell_type": "markdown",
   "metadata": {},
   "source": [
    "**Check fraud and valid case**"
   ]
  },
  {
   "cell_type": "code",
   "execution_count": 10,
   "metadata": {
    "execution": {
     "iopub.execute_input": "2024-07-10T09:36:38.347982Z",
     "iopub.status.busy": "2024-07-10T09:36:38.347546Z",
     "iopub.status.idle": "2024-07-10T09:36:38.426912Z",
     "shell.execute_reply": "2024-07-10T09:36:38.425860Z",
     "shell.execute_reply.started": "2024-07-10T09:36:38.347948Z"
    },
    "trusted": true
   },
   "outputs": [
    {
     "name": "stdout",
     "output_type": "stream",
     "text": [
      "0.0016698852262818046\n",
      "Fraud Cases: 473\n",
      "Valid Transactions: 283253\n"
     ]
    }
   ],
   "source": [
    "fraud = df [df['Class'] == 1]\n",
    "valid = df[df['Class'] == 0]\n",
    "outlierfraction = len(fraud)/float(len(valid ))\n",
    "print(outlierfraction)\n",
    "\n",
    "print('Fraud Cases: {}'.format(len(df[df['Class'] == 1])))\n",
    "print('Valid Transactions: {}'.format(len(df[df['Class'] == 0])))"
   ]
  },
  {
   "cell_type": "markdown",
   "metadata": {},
   "source": [
    "**Check statical summary** "
   ]
  },
  {
   "cell_type": "code",
   "execution_count": 11,
   "metadata": {
    "execution": {
     "iopub.execute_input": "2024-07-10T09:36:46.828498Z",
     "iopub.status.busy": "2024-07-10T09:36:46.827565Z",
     "iopub.status.idle": "2024-07-10T09:36:46.840512Z",
     "shell.execute_reply": "2024-07-10T09:36:46.839499Z",
     "shell.execute_reply.started": "2024-07-10T09:36:46.828462Z"
    },
    "trusted": true
   },
   "outputs": [
    {
     "data": {
      "text/plain": [
       "count     473.000000\n",
       "mean      123.871860\n",
       "std       260.211041\n",
       "min         0.000000\n",
       "25%         1.000000\n",
       "50%         9.820000\n",
       "75%       105.890000\n",
       "max      2125.870000\n",
       "Name: Amount, dtype: float64"
      ]
     },
     "execution_count": 11,
     "metadata": {},
     "output_type": "execute_result"
    }
   ],
   "source": [
    "fraud.Amount.describe()"
   ]
  },
  {
   "cell_type": "markdown",
   "metadata": {},
   "source": [
    "**Class distribution**"
   ]
  },
  {
   "cell_type": "code",
   "execution_count": 12,
   "metadata": {
    "execution": {
     "iopub.execute_input": "2024-07-10T10:46:25.171721Z",
     "iopub.status.busy": "2024-07-10T10:46:25.171306Z",
     "iopub.status.idle": "2024-07-10T10:46:25.418891Z",
     "shell.execute_reply": "2024-07-10T10:46:25.417884Z",
     "shell.execute_reply.started": "2024-07-10T10:46:25.171693Z"
    },
    "trusted": true
   },
   "outputs": [
    {
     "data": {
      "image/png": "[encoded data removed]",
      "text/plain": [
       "<Figure size 600x400 with 1 Axes>"
      ]
     },
     "metadata": {},
     "output_type": "display_data"
    }
   ],
   "source": [
    "plt.figure(figsize=(6, 4))\n",
    "sns.countplot(x='Class', data=df)\n",
    "plt.title('Class Distribution')\n",
    "plt.show()"
   ]
  },
  {
   "cell_type": "markdown",
   "metadata": {},
   "source": [
    "**Correlation analysis**"
   ]
  },
  {
   "cell_type": "code",
   "execution_count": 13,
   "metadata": {
    "execution": {
     "iopub.execute_input": "2024-07-10T09:37:13.568733Z",
     "iopub.status.busy": "2024-07-10T09:37:13.568052Z",
     "iopub.status.idle": "2024-07-10T09:37:15.106497Z",
     "shell.execute_reply": "2024-07-10T09:37:15.105437Z",
     "shell.execute_reply.started": "2024-07-10T09:37:13.568700Z"
    },
    "trusted": true
   },
   "outputs": [
    {
     "data": {
      "image/png": "[encoded data removed]",
      "text/plain": [
       "<Figure size 1200x800 with 2 Axes>"
      ]
     },
     "metadata": {},
     "output_type": "display_data"
    }
   ],
   "source": [
    "corr=df.corr()\n",
    "fig=plt.figure(figsize=(12,8))\n",
    "sns.heatmap(corr,vmax=.8,square=True)\n",
    "plt.show()"
   ]
  },
  {
   "cell_type": "markdown",
   "metadata": {},
   "source": [
    "**Separate x & y**"
   ]
  },
  {
   "cell_type": "code",
   "execution_count": 14,
   "metadata": {
    "execution": {
     "iopub.execute_input": "2024-07-10T09:46:33.427451Z",
     "iopub.status.busy": "2024-07-10T09:46:33.426703Z",
     "iopub.status.idle": "2024-07-10T09:46:33.458539Z",
     "shell.execute_reply": "2024-07-10T09:46:33.457642Z",
     "shell.execute_reply.started": "2024-07-10T09:46:33.427417Z"
    },
    "trusted": true
   },
   "outputs": [],
   "source": [
    "X = df.drop(columns=['Class'])\n",
    "y = df['Class']"
   ]
  },
  {
   "cell_type": "markdown",
   "metadata": {},
   "source": [
    "**Feature scaling**"
   ]
  },
  {
   "cell_type": "code",
   "execution_count": 15,
   "metadata": {
    "execution": {
     "iopub.execute_input": "2024-07-10T09:48:36.676973Z",
     "iopub.status.busy": "2024-07-10T09:48:36.675820Z",
     "iopub.status.idle": "2024-07-10T09:48:36.802178Z",
     "shell.execute_reply": "2024-07-10T09:48:36.801258Z",
     "shell.execute_reply.started": "2024-07-10T09:48:36.676929Z"
    },
    "trusted": true
   },
   "outputs": [
    {
     "name": "stdout",
     "output_type": "stream",
     "text": [
      "Defaulting to user installation because normal site-packages is not writeable\n",
      "Requirement already satisfied: scikit-learn in c:\\users\\anupa\\appdata\\roaming\\python\\python312\\site-packages (1.5.2)\n",
      "Requirement already satisfied: numpy>=1.19.5 in c:\\users\\anupa\\appdata\\roaming\\python\\python312\\site-packages (from scikit-learn) (2.2.0)\n",
      "Requirement already satisfied: scipy>=1.6.0 in c:\\users\\anupa\\appdata\\roaming\\python\\python312\\site-packages (from scikit-learn) (1.14.1)\n",
      "Requirement already satisfied: joblib>=1.2.0 in c:\\users\\anupa\\appdata\\roaming\\python\\python312\\site-packages (from scikit-learn) (1.4.2)\n",
      "Requirement already satisfied: threadpoolctl>=3.1.0 in c:\\users\\anupa\\appdata\\roaming\\python\\python312\\site-packages (from scikit-learn) (3.5.0)\n",
      "Note: you may need to restart the kernel to use updated packages.\n"
     ]
    }
   ],
   "source": [
    "%pip install scikit-learn\n",
    "\n",
    "from sklearn.preprocessing import StandardScaler\n",
    "scaler = StandardScaler()\n",
    "X_scaled = scaler.fit_transform(X)"
   ]
  },
  {
   "cell_type": "markdown",
   "metadata": {},
   "source": [
    "**Feature selection**"
   ]
  },
  {
   "cell_type": "code",
   "execution_count": 16,
   "metadata": {
    "execution": {
     "iopub.execute_input": "2024-07-10T10:06:49.379763Z",
     "iopub.status.busy": "2024-07-10T10:06:49.379344Z",
     "iopub.status.idle": "2024-07-10T10:18:13.527269Z",
     "shell.execute_reply": "2024-07-10T10:18:13.526134Z",
     "shell.execute_reply.started": "2024-07-10T10:06:49.379730Z"
    },
    "trusted": true
   },
   "outputs": [
    {
     "name": "stdout",
     "output_type": "stream",
     "text": [
      "Original number of features: 30\n",
      "Selected number of features: 15\n",
      "Selected features: Index(['V1', 'V3', 'V4', 'V7', 'V9', 'V10', 'V11', 'V12', 'V14', 'V16', 'V17',\n",
      "       'V18', 'V20', 'V21', 'V26'],\n",
      "      dtype='object')\n"
     ]
    }
   ],
   "source": [
    "from sklearn.ensemble import RandomForestClassifier\n",
    "from sklearn.feature_selection import SelectFromModel\n",
    "selector = RandomForestClassifier(n_estimators=100, random_state=42)\n",
    "selector.fit(X_scaled, y)\n",
    "\n",
    "# Use feature importance for feature selection\n",
    "sfm = SelectFromModel(selector, threshold='median')\n",
    "sfm.fit(X_scaled, y)\n",
    "X_selected = sfm.transform(X_scaled)\n",
    "\n",
    "# Get selected feature names\n",
    "selected_features = X.columns[sfm.get_support()]\n",
    "\n",
    "print(f'Original number of features: {X.shape[1]}')\n",
    "print(f'Selected number of features: {X_selected.shape[1]}')\n",
    "print('Selected features:', selected_features)\n"
   ]
  },
  {
   "cell_type": "markdown",
   "metadata": {},
   "source": [
    "**StratifiedKFold cross validation**"
   ]
  },
  {
   "cell_type": "code",
   "execution_count": 17,
   "metadata": {
    "execution": {
     "iopub.execute_input": "2024-07-10T10:18:54.100043Z",
     "iopub.status.busy": "2024-07-10T10:18:54.099093Z",
     "iopub.status.idle": "2024-07-10T10:18:54.104651Z",
     "shell.execute_reply": "2024-07-10T10:18:54.103548Z",
     "shell.execute_reply.started": "2024-07-10T10:18:54.100011Z"
    },
    "trusted": true
   },
   "outputs": [],
   "source": [
    "from sklearn.model_selection import StratifiedKFold\n",
    "skf = StratifiedKFold(n_splits=5)"
   ]
  },
  {
   "cell_type": "markdown",
   "metadata": {},
   "source": [
    "**RandomForest classifier model**"
   ]
  },
  {
   "cell_type": "code",
   "execution_count": 18,
   "metadata": {
    "execution": {
     "iopub.execute_input": "2024-07-10T10:19:36.557610Z",
     "iopub.status.busy": "2024-07-10T10:19:36.556717Z",
     "iopub.status.idle": "2024-07-10T10:31:45.733903Z",
     "shell.execute_reply": "2024-07-10T10:31:45.732879Z",
     "shell.execute_reply.started": "2024-07-10T10:19:36.557576Z"
    },
    "trusted": true
   },
   "outputs": [],
   "source": [
    "model = RandomForestClassifier(n_estimators=100, random_state=42)\n",
    "\n",
    "for train_index, test_index in skf.split(X_selected, y):\n",
    "    X_train, X_test = X_selected[train_index], X_selected[test_index]\n",
    "    y_train, y_test = y.iloc[train_index], y.iloc[test_index]\n",
    "    \n",
    "    model.fit(X_train, y_train)"
   ]
  },
  {
   "cell_type": "code",
   "execution_count": 19,
   "metadata": {
    "execution": {
     "iopub.execute_input": "2024-07-10T10:33:36.300368Z",
     "iopub.status.busy": "2024-07-10T10:33:36.299956Z",
     "iopub.status.idle": "2024-07-10T10:33:36.864383Z",
     "shell.execute_reply": "2024-07-10T10:33:36.863308Z",
     "shell.execute_reply.started": "2024-07-10T10:33:36.300339Z"
    },
    "trusted": true
   },
   "outputs": [],
   "source": [
    "y_pred = model.predict(X_test)"
   ]
  },
  {
   "cell_type": "markdown",
   "metadata": {},
   "source": [
    "**Model Evaluation**"
   ]
  },
  {
   "cell_type": "code",
   "execution_count": 20,
   "metadata": {
    "execution": {
     "iopub.execute_input": "2024-07-10T10:34:20.500869Z",
     "iopub.status.busy": "2024-07-10T10:34:20.500133Z",
     "iopub.status.idle": "2024-07-10T10:34:20.567973Z",
     "shell.execute_reply": "2024-07-10T10:34:20.566861Z",
     "shell.execute_reply.started": "2024-07-10T10:34:20.500832Z"
    },
    "trusted": true
   },
   "outputs": [
    {
     "name": "stdout",
     "output_type": "stream",
     "text": [
      "Metrics saved: {'accuracy': 0.9994360736628778, 'precision': np.float64(0.9846153846153847), 'recall': np.float64(0.6736842105263158), 'f1score': np.float64(0.8)}\n"
     ]
    }
   ],
   "source": [
    "from sklearn.metrics import classification_report,accuracy_score,precision_score,recall_score,f1_score,confusion_matrix\n",
    "acc = accuracy_score(y_test, y_pred)\n",
    "metrics = {\n",
    "  'accuracy': accuracy_score(y_test, y_pred),\n",
    "  'precision': precision_score(y_test, y_pred),\n",
    "  'recall': recall_score(y_test, y_pred),\n",
    "  'f1score': f1_score(y_test, y_pred)\n",
    "}\n",
    "\n",
    "with open('metrics.txt', 'w') as f:\n",
    "  for key, value in metrics.items():\n",
    "    f.write(f'{key}: {value}\\n')\n",
    "\n",
    "print(\"Metrics saved:\", metrics)"
   ]
  },
  {
   "cell_type": "code",
   "execution_count": 21,
   "metadata": {},
   "outputs": [
    {
     "name": "stdout",
     "output_type": "stream",
     "text": [
      "Model parameters: {'bootstrap': True, 'ccp_alpha': 0.0, 'class_weight': None, 'criterion': 'gini', 'max_depth': None, 'max_features': 'sqrt', 'max_leaf_nodes': None, 'max_samples': None, 'min_impurity_decrease': 0.0, 'min_samples_leaf': 1, 'min_samples_split': 2, 'min_weight_fraction_leaf': 0.0, 'monotonic_cst': None, 'n_estimators': 100, 'n_jobs': None, 'oob_score': False, 'random_state': 42, 'verbose': 0, 'warm_start': False}\n"
     ]
    }
   ],
   "source": [
    "model_params = model.get_params()\n",
    "with open('model_params.txt', 'w') as f:\n",
    "  for key, value in model_params.items():\n",
    "    f.write(f'{key}: {value}\\n')\n",
    "print(\"Model parameters:\", model_params)"
   ]
  },
  {
   "cell_type": "code",
   "execution_count": 22,
   "metadata": {
    "execution": {
     "iopub.execute_input": "2024-07-10T10:35:20.588819Z",
     "iopub.status.busy": "2024-07-10T10:35:20.588408Z",
     "iopub.status.idle": "2024-07-10T10:35:20.946964Z",
     "shell.execute_reply": "2024-07-10T10:35:20.945923Z",
     "shell.execute_reply.started": "2024-07-10T10:35:20.588791Z"
    },
    "trusted": true
   },
   "outputs": [
    {
     "data": {
      "image/png": "[encoded data removed]",
      "text/plain": [
       "<Figure size 1200x1200 with 2 Axes>"
      ]
     },
     "metadata": {},
     "output_type": "display_data"
    }
   ],
   "source": [
    "LABELS = ['Normal', 'Fraud']\n",
    "conf_matrix = confusion_matrix(y_test, y_pred )\n",
    "plt.figure(figsize =(12, 12))\n",
    "sns.heatmap(conf_matrix, xticklabels = LABELS, \n",
    "            yticklabels = LABELS, annot = True, fmt =\"d\");\n",
    "plt.title(\"Confusion matrix\")\n",
    "\n",
    "plt.ylabel('True class')\n",
    "plt.xlabel('Predicted class')\n",
    "plt.show()"
   ]
  },
  {
   "cell_type": "code",
   "execution_count": 1,
   "metadata": {},
   "outputs": [
    {
     "name": "stdout",
     "output_type": "stream",
     "text": [
      "Requirement already satisfied: python-dotenv in d:\\dml\\dml_\\dml\\.venv\\lib\\site-packages (1.0.1)\n",
      "Note: you may need to restart the kernel to use updated packages.\n"
     ]
    },
    {
     "name": "stderr",
     "output_type": "stream",
     "text": [
      "Python-dotenv could not parse statement starting at line 1\n",
      "Python-dotenv could not parse statement starting at line 2\n"
     ]
    },
    {
     "name": "stdout",
     "output_type": "stream",
     "text": [
      "Uploading file fraud-detection-model.ipynb to IPFS...\n",
      "Uploaded file IPFS hash: QmckDz4QWaqpatSbtFxQPxAKJqnCWPiUEFuL5B9tBxwt99\n"
     ]
    }
   ],
   "source": [
    "%pip install python-dotenv\n",
    "\n",
    "import sys\n",
    "sys.path.append('..')\n",
    "\n",
    "from ipfs_configs import upload_file_to_ipfs\n",
    "\n",
    "model_file_path = 'fraud-detection-model.ipynb'\n",
    "\n",
    "print(f\"Uploading file {model_file_path} to IPFS...\")\n",
    "\n",
    "ipfs_hash = upload_file_to_ipfs(model_file_path)\n",
    "\n",
    "print(f\"Uploaded file IPFS hash: {ipfs_hash}\")"
   ]
  },
  {
   "cell_type": "code",
   "execution_count": 1,
   "metadata": {},
   "outputs": [
    {
     "name": "stdout",
     "output_type": "stream",
     "text": [
      "Requirement already satisfied: requests in d:\\dml\\dml_\\dml\\.venv\\lib\\site-packages (2.32.3)\n",
      "Requirement already satisfied: charset-normalizer<4,>=2 in d:\\dml\\dml_\\dml\\.venv\\lib\\site-packages (from requests) (3.4.1)\n",
      "Requirement already satisfied: idna<4,>=2.5 in d:\\dml\\dml_\\dml\\.venv\\lib\\site-packages (from requests) (3.10)\n",
      "Requirement already satisfied: urllib3<3,>=1.21.1 in d:\\dml\\dml_\\dml\\.venv\\lib\\site-packages (from requests) (2.3.0)\n",
      "Requirement already satisfied: certifi>=2017.4.17 in d:\\dml\\dml_\\dml\\.venv\\lib\\site-packages (from requests) (2024.12.14)\n",
      "Note: you may need to restart the kernel to use updated packages.\n"
     ]
    }
   ],
   "source": [
    "%pip install requests\n",
    "import json\n",
    "import requests\n",
    "\n",
    "with open('model_hash', 'r') as file:\n",
    "  ipfs_hash = file.read().strip()\n",
    "\n",
    "with open('model_params.txt', 'r') as file:\n",
    "  model_params = file.read().strip()\n",
    "\n",
    "with open('metrics.txt', 'r') as file:\n",
    "  metrics = file.read().strip()\n",
    "\n",
    "# Convert model_params string to dictionary\n",
    "params_dict = {}\n",
    "for line in model_params.splitlines():\n",
    "  if ': ' in line:\n",
    "    key, value = line.split(': ', 1)\n",
    "    params_dict[key] = value\n",
    "\n",
    "# Convert metrics string to dictionary\n",
    "metrics_dict = {}\n",
    "for line in metrics.splitlines():\n",
    "  if ': ' in line:\n",
    "    key, value = line.split(': ', 1)\n",
    "    metrics_dict[key] = int(float(value) * 100)"
   ]
  },
  {
   "cell_type": "code",
   "execution_count": 2,
   "metadata": {},
   "outputs": [
    {
     "name": "stdout",
     "output_type": "stream",
     "text": [
      "Requirement already satisfied: cryptography in d:\\dml\\dml_\\dml\\.venv\\lib\\site-packages (44.0.0)Note: you may need to restart the kernel to use updated packages.\n",
      "\n",
      "Requirement already satisfied: cffi>=1.12 in d:\\dml\\dml_\\dml\\.venv\\lib\\site-packages (from cryptography) (1.17.1)\n",
      "Requirement already satisfied: pycparser in d:\\dml\\dml_\\dml\\.venv\\lib\\site-packages (from cffi>=1.12->cryptography) (2.22)\n"
     ]
    },
    {
     "name": "stderr",
     "output_type": "stream",
     "text": [
      "Python-dotenv could not parse statement starting at line 1\n",
      "Python-dotenv could not parse statement starting at line 2\n"
     ]
    },
    {
     "name": "stdout",
     "output_type": "stream",
     "text": [
      "b'TpeeqTA-ayytydThv9PjVVlfX55Pnx_ItcEe3EW_cSo='\n",
      "Uploaded file IPFS hash: QmUALn4s7kAij8rERaGPmjnvRggzp9vjXrYVVFVxmir9Qs\n"
     ]
    }
   ],
   "source": [
    "%pip install cryptography\n",
    "\n",
    "import sys\n",
    "sys.path.append('..')\n",
    "\n",
    "from ipfs_configs import upload_file_to_ipfs\n",
    "from cryptography.fernet import Fernet\n",
    "\n",
    "key = Fernet.generate_key()\n",
    "cipher_suite = Fernet(key)\n",
    "\n",
    "print(key)\n",
    "\n",
    "# Read the original metrics file\n",
    "with open('model_params.txt', 'rb') as file:\n",
    "  original_data = file.read()\n",
    "\n",
    "# Encrypt the data\n",
    "encrypted_data = cipher_suite.encrypt(original_data)\n",
    "\n",
    "# Write encrypted data to file\n",
    "with open('model_params_encrypted.txt', 'wb') as file:\n",
    "  file.write(encrypted_data)\n",
    "\n",
    "# Read and decrypt the data\n",
    "with open('model_params_encrypted.txt', 'rb') as file:\n",
    "  decrypted_data = cipher_suite.decrypt(file.read())\n",
    "\n",
    "params_file_path = 'model_params_encrypted.txt'\n",
    "\n",
    "param_ipfs_hash = upload_file_to_ipfs(params_file_path)\n",
    "\n",
    "print(f\"Uploaded file IPFS hash: {param_ipfs_hash}\")\n"
   ]
  },
  {
   "cell_type": "code",
   "execution_count": 3,
   "metadata": {},
   "outputs": [
    {
     "name": "stdout",
     "output_type": "stream",
     "text": [
      "JSON data: {'model_ipfs_hash': 'QmYEpavDsevSCo2AFL6FmYmWBuCycBeMwLdrPX9FKzw7fP', 'model_params': {'bootstrap': 'True', 'ccp_alpha': '0.0', 'class_weight': 'None', 'criterion': 'gini', 'max_depth': 'None', 'max_features': 'sqrt', 'max_leaf_nodes': 'None', 'max_samples': 'None', 'min_impurity_decrease': '0.0', 'min_samples_leaf': '1', 'min_samples_split': '2', 'min_weight_fraction_leaf': '0.0', 'monotonic_cst': 'None', 'n_estimators': '100', 'n_jobs': 'None', 'oob_score': 'False', 'random_state': '42', 'verbose': '0', 'warm_start': 'False'}, 'metrics': {'accuracy': 99, 'precision': 98, 'recall': 67, 'f1score': 80}, 'param_ipfs_hash': 'QmUALn4s7kAij8rERaGPmjnvRggzp9vjXrYVVFVxmir9Qs', 'param_key': 'VHBlZXFUQS1heXl0eWRUaHY5UGpWVmxmWDU1UG54X0l0Y0VlM0VXX2NTbz0='}\n"
     ]
    }
   ],
   "source": [
    "import base64\n",
    "\n",
    "# Create final JSON object\n",
    "data = {\n",
    "  'model_ipfs_hash': ipfs_hash,\n",
    "  'model_params': params_dict,\n",
    "  'metrics': metrics_dict,\n",
    "  'param_ipfs_hash': param_ipfs_hash,\n",
    "  'param_key': base64.b64encode(key).decode('utf-8')\n",
    "}\n",
    "\n",
    "\n",
    "# Convert to JSON string\n",
    "json_data = json.dumps(data, indent=2)\n",
    "print(\"JSON data:\", data)\n",
    "\n",
    "response = requests.post('http://127.0.0.1:5000/update-data', json=data)"
   ]
  }
 ],
 "metadata": {
  "kernelspec": {
   "display_name": ".venv",
   "language": "python",
   "name": "python3"
  },
  "language_info": {
   "codemirror_mode": {
    "name": "ipython",
    "version": 3
   },
   "file_extension": ".py",
   "mimetype": "text/x-python",
   "name": "python",
   "nbconvert_exporter": "python",
   "pygments_lexer": "ipython3",
   "version": "3.12.6"
  }
 },
 "nbformat": 4,
 "nbformat_minor": 4
}
